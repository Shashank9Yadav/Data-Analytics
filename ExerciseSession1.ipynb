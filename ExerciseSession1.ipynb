{
  "nbformat": 4,
  "nbformat_minor": 0,
  "metadata": {
    "kernelspec": {
      "display_name": "Python 3",
      "language": "python",
      "name": "python3"
    },
    "language_info": {
      "codemirror_mode": {
        "name": "ipython",
        "version": 3
      },
      "file_extension": ".py",
      "mimetype": "text/x-python",
      "name": "python",
      "nbconvert_exporter": "python",
      "pygments_lexer": "ipython3",
      "version": "3.7.6"
    },
    "colab": {
      "name": "ExerciseSession1.ipynb",
      "provenance": [],
      "include_colab_link": true
    }
  },
  "cells": [
    {
      "cell_type": "markdown",
      "metadata": {
        "id": "view-in-github",
        "colab_type": "text"
      },
      "source": [
        "<a href=\"https://colab.research.google.com/github/Shashank9Yadav/Data-Analytics/blob/main/ExerciseSession1.ipynb\" target=\"_parent\"><img src=\"https://colab.research.google.com/assets/colab-badge.svg\" alt=\"Open In Colab\"/></a>"
      ]
    },
    {
      "cell_type": "markdown",
      "metadata": {
        "id": "YmZzTIFq8ecF"
      },
      "source": [
        "# Introduction and Importing Data\n",
        "In the Python exercises we'll look at a powerful, and well-known Python library called scikit-learn. This is accessed programmatically using Python code, so has a steeper learning curve than Orange's GUI-driven approach, but is more flexible and powerful. Orange actually makes use of this library for some of its modelling; Orange can also be called programmatically via an API, but scikit-learn is very popular and worth knowing about in its own right.\n",
        "\n",
        "In this exercise, we'll load the data, plot the distributions and try cleaning the data, as you've already done in Orange. We're using the same motor premiums data you've already seen so it should all be every familiar.\n",
        "\n",
        "scikit-learn uses pandas and numpy objects to contain the raw data, so we'll begin by importing them and loading the data... \n",
        "\n",
        "(remember, click on a cell, then control+enter will run it)"
      ]
    },
    {
      "cell_type": "code",
      "metadata": {
        "id": "MSVZiKsS8ecO"
      },
      "source": [
        "import pandas as pd\n",
        "import numpy as np\n",
        "\n",
        "# remember to change this path if you've saved the data somewhere else\n",
        "df=pd.read_csv(\"/content/MotorPremiums.csv\")"
      ],
      "execution_count": 4,
      "outputs": []
    },
    {
      "cell_type": "code",
      "metadata": {
        "colab": {
          "base_uri": "https://localhost:8080/",
          "height": 35
        },
        "id": "8OAQQAtt9Hcn",
        "outputId": "aae618d3-5d3b-4f3b-f5eb-fb9cb17e2892"
      },
      "source": [
        "pwd"
      ],
      "execution_count": 109,
      "outputs": [
        {
          "output_type": "execute_result",
          "data": {
            "application/vnd.google.colaboratory.intrinsic+json": {
              "type": "string"
            },
            "text/plain": [
              "'/content'"
            ]
          },
          "metadata": {
            "tags": []
          },
          "execution_count": 109
        }
      ]
    },
    {
      "cell_type": "markdown",
      "metadata": {
        "id": "o0VqIfY28ecP"
      },
      "source": [
        "Let's take a look at the data before doing anything else...\n",
        "\n",
        "In the first Orange exercise, we asked:\n",
        "\n",
        "* How many rows (instances) are there in the data?\n",
        "* How many columns (variables) are there?\n",
        "\n",
        "We can find out the same here like this:"
      ]
    },
    {
      "cell_type": "code",
      "metadata": {
        "colab": {
          "base_uri": "https://localhost:8080/"
        },
        "id": "njpUurB48ecP",
        "outputId": "9ab797ec-d4c4-409a-82f1-7d5132ce1003"
      },
      "source": [
        "df.shape"
      ],
      "execution_count": 5,
      "outputs": [
        {
          "output_type": "execute_result",
          "data": {
            "text/plain": [
              "(4387, 12)"
            ]
          },
          "metadata": {
            "tags": []
          },
          "execution_count": 5
        }
      ]
    },
    {
      "cell_type": "markdown",
      "metadata": {
        "id": "_VcTbdie8ecR"
      },
      "source": [
        "It's also helpful to take a look at the first few rows of the data, which we can do like this:"
      ]
    },
    {
      "cell_type": "code",
      "metadata": {
        "scrolled": false,
        "colab": {
          "base_uri": "https://localhost:8080/",
          "height": 204
        },
        "id": "KfIXt3-a8ecR",
        "outputId": "af39ca0a-7875-487f-eedf-ec477fdf405e"
      },
      "source": [
        "df.head()"
      ],
      "execution_count": 6,
      "outputs": [
        {
          "output_type": "execute_result",
          "data": {
            "text/html": [
              "<div>\n",
              "<style scoped>\n",
              "    .dataframe tbody tr th:only-of-type {\n",
              "        vertical-align: middle;\n",
              "    }\n",
              "\n",
              "    .dataframe tbody tr th {\n",
              "        vertical-align: top;\n",
              "    }\n",
              "\n",
              "    .dataframe thead th {\n",
              "        text-align: right;\n",
              "    }\n",
              "</style>\n",
              "<table border=\"1\" class=\"dataframe\">\n",
              "  <thead>\n",
              "    <tr style=\"text-align: right;\">\n",
              "      <th></th>\n",
              "      <th>ID</th>\n",
              "      <th>Age</th>\n",
              "      <th>Gender</th>\n",
              "      <th>LicenceCountry</th>\n",
              "      <th>Yrs DL</th>\n",
              "      <th>Points</th>\n",
              "      <th>NCD</th>\n",
              "      <th>Engine cc</th>\n",
              "      <th>Ins Group</th>\n",
              "      <th>Stored</th>\n",
              "      <th>Car Age</th>\n",
              "      <th>Premium</th>\n",
              "    </tr>\n",
              "  </thead>\n",
              "  <tbody>\n",
              "    <tr>\n",
              "      <th>0</th>\n",
              "      <td>B69193007</td>\n",
              "      <td>52</td>\n",
              "      <td>M</td>\n",
              "      <td>UK</td>\n",
              "      <td>16</td>\n",
              "      <td>0</td>\n",
              "      <td>0</td>\n",
              "      <td>1200</td>\n",
              "      <td>4</td>\n",
              "      <td>Garage</td>\n",
              "      <td>2</td>\n",
              "      <td>195.32</td>\n",
              "    </tr>\n",
              "    <tr>\n",
              "      <th>1</th>\n",
              "      <td>B58763002</td>\n",
              "      <td>46</td>\n",
              "      <td>F</td>\n",
              "      <td>UK</td>\n",
              "      <td>22</td>\n",
              "      <td>8</td>\n",
              "      <td>1</td>\n",
              "      <td>1400</td>\n",
              "      <td>2</td>\n",
              "      <td>Garage</td>\n",
              "      <td>7</td>\n",
              "      <td>225.09</td>\n",
              "    </tr>\n",
              "    <tr>\n",
              "      <th>2</th>\n",
              "      <td>A57010377</td>\n",
              "      <td>59</td>\n",
              "      <td>F</td>\n",
              "      <td>UK</td>\n",
              "      <td>9</td>\n",
              "      <td>0</td>\n",
              "      <td>0</td>\n",
              "      <td>1400</td>\n",
              "      <td>5</td>\n",
              "      <td>Garage</td>\n",
              "      <td>14</td>\n",
              "      <td>201.08</td>\n",
              "    </tr>\n",
              "    <tr>\n",
              "      <th>3</th>\n",
              "      <td>B61470950</td>\n",
              "      <td>62</td>\n",
              "      <td>M</td>\n",
              "      <td>UK</td>\n",
              "      <td>35</td>\n",
              "      <td>0</td>\n",
              "      <td>0</td>\n",
              "      <td>1400</td>\n",
              "      <td>4</td>\n",
              "      <td>0</td>\n",
              "      <td>12</td>\n",
              "      <td>211.76</td>\n",
              "    </tr>\n",
              "    <tr>\n",
              "      <th>4</th>\n",
              "      <td>B43586226</td>\n",
              "      <td>59</td>\n",
              "      <td>F</td>\n",
              "      <td>UK</td>\n",
              "      <td>3</td>\n",
              "      <td>0</td>\n",
              "      <td>4</td>\n",
              "      <td>1400</td>\n",
              "      <td>5</td>\n",
              "      <td>Road</td>\n",
              "      <td>13</td>\n",
              "      <td>251.49</td>\n",
              "    </tr>\n",
              "  </tbody>\n",
              "</table>\n",
              "</div>"
            ],
            "text/plain": [
              "          ID  Age Gender LicenceCountry  ...  Ins Group  Stored  Car Age  Premium\n",
              "0  B69193007   52      M             UK  ...          4  Garage        2   195.32\n",
              "1  B58763002   46      F             UK  ...          2  Garage        7   225.09\n",
              "2  A57010377   59      F             UK  ...          5  Garage       14   201.08\n",
              "3  B61470950   62      M             UK  ...          4       0       12   211.76\n",
              "4  B43586226   59      F             UK  ...          5    Road       13   251.49\n",
              "\n",
              "[5 rows x 12 columns]"
            ]
          },
          "metadata": {
            "tags": []
          },
          "execution_count": 6
        }
      ]
    },
    {
      "cell_type": "markdown",
      "metadata": {
        "id": "EseGn2cf8ecS"
      },
      "source": [
        "You can also type \"df\" on its own to see the first and last few rows.\n",
        "\n",
        "One more useful command is describe, which will give us summary statistics on each of the columns and can be useful for spotting any issues early on. (\"include=all\" is needed to include all columns, otherwise we'll just get stats for numeric ones)"
      ]
    },
    {
      "cell_type": "code",
      "metadata": {
        "colab": {
          "base_uri": "https://localhost:8080/",
          "height": 419
        },
        "id": "0ZjNMfn5EcWl",
        "outputId": "14e5a0e6-ac43-44e9-a1fa-d5195ca7d45d"
      },
      "source": [
        "df"
      ],
      "execution_count": 7,
      "outputs": [
        {
          "output_type": "execute_result",
          "data": {
            "text/html": [
              "<div>\n",
              "<style scoped>\n",
              "    .dataframe tbody tr th:only-of-type {\n",
              "        vertical-align: middle;\n",
              "    }\n",
              "\n",
              "    .dataframe tbody tr th {\n",
              "        vertical-align: top;\n",
              "    }\n",
              "\n",
              "    .dataframe thead th {\n",
              "        text-align: right;\n",
              "    }\n",
              "</style>\n",
              "<table border=\"1\" class=\"dataframe\">\n",
              "  <thead>\n",
              "    <tr style=\"text-align: right;\">\n",
              "      <th></th>\n",
              "      <th>ID</th>\n",
              "      <th>Age</th>\n",
              "      <th>Gender</th>\n",
              "      <th>LicenceCountry</th>\n",
              "      <th>Yrs DL</th>\n",
              "      <th>Points</th>\n",
              "      <th>NCD</th>\n",
              "      <th>Engine cc</th>\n",
              "      <th>Ins Group</th>\n",
              "      <th>Stored</th>\n",
              "      <th>Car Age</th>\n",
              "      <th>Premium</th>\n",
              "    </tr>\n",
              "  </thead>\n",
              "  <tbody>\n",
              "    <tr>\n",
              "      <th>0</th>\n",
              "      <td>B69193007</td>\n",
              "      <td>52</td>\n",
              "      <td>M</td>\n",
              "      <td>UK</td>\n",
              "      <td>16</td>\n",
              "      <td>0</td>\n",
              "      <td>0</td>\n",
              "      <td>1200</td>\n",
              "      <td>4</td>\n",
              "      <td>Garage</td>\n",
              "      <td>2</td>\n",
              "      <td>195.32</td>\n",
              "    </tr>\n",
              "    <tr>\n",
              "      <th>1</th>\n",
              "      <td>B58763002</td>\n",
              "      <td>46</td>\n",
              "      <td>F</td>\n",
              "      <td>UK</td>\n",
              "      <td>22</td>\n",
              "      <td>8</td>\n",
              "      <td>1</td>\n",
              "      <td>1400</td>\n",
              "      <td>2</td>\n",
              "      <td>Garage</td>\n",
              "      <td>7</td>\n",
              "      <td>225.09</td>\n",
              "    </tr>\n",
              "    <tr>\n",
              "      <th>2</th>\n",
              "      <td>A57010377</td>\n",
              "      <td>59</td>\n",
              "      <td>F</td>\n",
              "      <td>UK</td>\n",
              "      <td>9</td>\n",
              "      <td>0</td>\n",
              "      <td>0</td>\n",
              "      <td>1400</td>\n",
              "      <td>5</td>\n",
              "      <td>Garage</td>\n",
              "      <td>14</td>\n",
              "      <td>201.08</td>\n",
              "    </tr>\n",
              "    <tr>\n",
              "      <th>3</th>\n",
              "      <td>B61470950</td>\n",
              "      <td>62</td>\n",
              "      <td>M</td>\n",
              "      <td>UK</td>\n",
              "      <td>35</td>\n",
              "      <td>0</td>\n",
              "      <td>0</td>\n",
              "      <td>1400</td>\n",
              "      <td>4</td>\n",
              "      <td>0</td>\n",
              "      <td>12</td>\n",
              "      <td>211.76</td>\n",
              "    </tr>\n",
              "    <tr>\n",
              "      <th>4</th>\n",
              "      <td>B43586226</td>\n",
              "      <td>59</td>\n",
              "      <td>F</td>\n",
              "      <td>UK</td>\n",
              "      <td>3</td>\n",
              "      <td>0</td>\n",
              "      <td>4</td>\n",
              "      <td>1400</td>\n",
              "      <td>5</td>\n",
              "      <td>Road</td>\n",
              "      <td>13</td>\n",
              "      <td>251.49</td>\n",
              "    </tr>\n",
              "    <tr>\n",
              "      <th>...</th>\n",
              "      <td>...</td>\n",
              "      <td>...</td>\n",
              "      <td>...</td>\n",
              "      <td>...</td>\n",
              "      <td>...</td>\n",
              "      <td>...</td>\n",
              "      <td>...</td>\n",
              "      <td>...</td>\n",
              "      <td>...</td>\n",
              "      <td>...</td>\n",
              "      <td>...</td>\n",
              "      <td>...</td>\n",
              "    </tr>\n",
              "    <tr>\n",
              "      <th>4382</th>\n",
              "      <td>A1126336</td>\n",
              "      <td>28</td>\n",
              "      <td>M</td>\n",
              "      <td>UK</td>\n",
              "      <td>8</td>\n",
              "      <td>0</td>\n",
              "      <td>3</td>\n",
              "      <td>1200</td>\n",
              "      <td>4</td>\n",
              "      <td>Garage</td>\n",
              "      <td>1</td>\n",
              "      <td>214.03</td>\n",
              "    </tr>\n",
              "    <tr>\n",
              "      <th>4383</th>\n",
              "      <td>B56077025</td>\n",
              "      <td>76</td>\n",
              "      <td>F</td>\n",
              "      <td>UK</td>\n",
              "      <td>41</td>\n",
              "      <td>0</td>\n",
              "      <td>4</td>\n",
              "      <td>1600</td>\n",
              "      <td>5</td>\n",
              "      <td>Road</td>\n",
              "      <td>1</td>\n",
              "      <td>265.50</td>\n",
              "    </tr>\n",
              "    <tr>\n",
              "      <th>4384</th>\n",
              "      <td>B30440487</td>\n",
              "      <td>50</td>\n",
              "      <td>M</td>\n",
              "      <td>UK</td>\n",
              "      <td>32</td>\n",
              "      <td>0</td>\n",
              "      <td>4</td>\n",
              "      <td>1200</td>\n",
              "      <td>2</td>\n",
              "      <td>Road</td>\n",
              "      <td>1</td>\n",
              "      <td>250.51</td>\n",
              "    </tr>\n",
              "    <tr>\n",
              "      <th>4385</th>\n",
              "      <td>A48556843</td>\n",
              "      <td>36</td>\n",
              "      <td>F</td>\n",
              "      <td>UK</td>\n",
              "      <td>12</td>\n",
              "      <td>8</td>\n",
              "      <td>3</td>\n",
              "      <td>1200</td>\n",
              "      <td>5</td>\n",
              "      <td>Road</td>\n",
              "      <td>1</td>\n",
              "      <td>264.92</td>\n",
              "    </tr>\n",
              "    <tr>\n",
              "      <th>4386</th>\n",
              "      <td>B13063567</td>\n",
              "      <td>36</td>\n",
              "      <td>F</td>\n",
              "      <td>UK</td>\n",
              "      <td>2</td>\n",
              "      <td>0</td>\n",
              "      <td>3</td>\n",
              "      <td>1200</td>\n",
              "      <td>4</td>\n",
              "      <td>Drive</td>\n",
              "      <td>1</td>\n",
              "      <td>208.95</td>\n",
              "    </tr>\n",
              "  </tbody>\n",
              "</table>\n",
              "<p>4387 rows × 12 columns</p>\n",
              "</div>"
            ],
            "text/plain": [
              "             ID  Age Gender LicenceCountry  ...  Ins Group  Stored  Car Age  Premium\n",
              "0     B69193007   52      M             UK  ...          4  Garage        2   195.32\n",
              "1     B58763002   46      F             UK  ...          2  Garage        7   225.09\n",
              "2     A57010377   59      F             UK  ...          5  Garage       14   201.08\n",
              "3     B61470950   62      M             UK  ...          4       0       12   211.76\n",
              "4     B43586226   59      F             UK  ...          5    Road       13   251.49\n",
              "...         ...  ...    ...            ...  ...        ...     ...      ...      ...\n",
              "4382   A1126336   28      M             UK  ...          4  Garage        1   214.03\n",
              "4383  B56077025   76      F             UK  ...          5    Road        1   265.50\n",
              "4384  B30440487   50      M             UK  ...          2    Road        1   250.51\n",
              "4385  A48556843   36      F             UK  ...          5    Road        1   264.92\n",
              "4386  B13063567   36      F             UK  ...          4   Drive        1   208.95\n",
              "\n",
              "[4387 rows x 12 columns]"
            ]
          },
          "metadata": {
            "tags": []
          },
          "execution_count": 7
        }
      ]
    },
    {
      "cell_type": "code",
      "metadata": {
        "colab": {
          "base_uri": "https://localhost:8080/",
          "height": 410
        },
        "id": "oneBwAjc8ecT",
        "outputId": "a6afe0b9-107b-4a57-f809-be21ec3c2f19"
      },
      "source": [
        "df.describe(include=\"all\")"
      ],
      "execution_count": 8,
      "outputs": [
        {
          "output_type": "execute_result",
          "data": {
            "text/html": [
              "<div>\n",
              "<style scoped>\n",
              "    .dataframe tbody tr th:only-of-type {\n",
              "        vertical-align: middle;\n",
              "    }\n",
              "\n",
              "    .dataframe tbody tr th {\n",
              "        vertical-align: top;\n",
              "    }\n",
              "\n",
              "    .dataframe thead th {\n",
              "        text-align: right;\n",
              "    }\n",
              "</style>\n",
              "<table border=\"1\" class=\"dataframe\">\n",
              "  <thead>\n",
              "    <tr style=\"text-align: right;\">\n",
              "      <th></th>\n",
              "      <th>ID</th>\n",
              "      <th>Age</th>\n",
              "      <th>Gender</th>\n",
              "      <th>LicenceCountry</th>\n",
              "      <th>Yrs DL</th>\n",
              "      <th>Points</th>\n",
              "      <th>NCD</th>\n",
              "      <th>Engine cc</th>\n",
              "      <th>Ins Group</th>\n",
              "      <th>Stored</th>\n",
              "      <th>Car Age</th>\n",
              "      <th>Premium</th>\n",
              "    </tr>\n",
              "  </thead>\n",
              "  <tbody>\n",
              "    <tr>\n",
              "      <th>count</th>\n",
              "      <td>4387</td>\n",
              "      <td>4387.000000</td>\n",
              "      <td>4387</td>\n",
              "      <td>4387</td>\n",
              "      <td>4387.000000</td>\n",
              "      <td>4387.000000</td>\n",
              "      <td>4387.000000</td>\n",
              "      <td>4387.000000</td>\n",
              "      <td>4387.000000</td>\n",
              "      <td>4387</td>\n",
              "      <td>4387.000000</td>\n",
              "      <td>4387.000000</td>\n",
              "    </tr>\n",
              "    <tr>\n",
              "      <th>unique</th>\n",
              "      <td>4387</td>\n",
              "      <td>NaN</td>\n",
              "      <td>4</td>\n",
              "      <td>3</td>\n",
              "      <td>NaN</td>\n",
              "      <td>NaN</td>\n",
              "      <td>NaN</td>\n",
              "      <td>NaN</td>\n",
              "      <td>NaN</td>\n",
              "      <td>4</td>\n",
              "      <td>NaN</td>\n",
              "      <td>NaN</td>\n",
              "    </tr>\n",
              "    <tr>\n",
              "      <th>top</th>\n",
              "      <td>B16288671</td>\n",
              "      <td>NaN</td>\n",
              "      <td>M</td>\n",
              "      <td>UK</td>\n",
              "      <td>NaN</td>\n",
              "      <td>NaN</td>\n",
              "      <td>NaN</td>\n",
              "      <td>NaN</td>\n",
              "      <td>NaN</td>\n",
              "      <td>Garage</td>\n",
              "      <td>NaN</td>\n",
              "      <td>NaN</td>\n",
              "    </tr>\n",
              "    <tr>\n",
              "      <th>freq</th>\n",
              "      <td>1</td>\n",
              "      <td>NaN</td>\n",
              "      <td>2232</td>\n",
              "      <td>4380</td>\n",
              "      <td>NaN</td>\n",
              "      <td>NaN</td>\n",
              "      <td>NaN</td>\n",
              "      <td>NaN</td>\n",
              "      <td>NaN</td>\n",
              "      <td>3057</td>\n",
              "      <td>NaN</td>\n",
              "      <td>NaN</td>\n",
              "    </tr>\n",
              "    <tr>\n",
              "      <th>mean</th>\n",
              "      <td>NaN</td>\n",
              "      <td>49.435605</td>\n",
              "      <td>NaN</td>\n",
              "      <td>NaN</td>\n",
              "      <td>16.537041</td>\n",
              "      <td>0.813312</td>\n",
              "      <td>2.038067</td>\n",
              "      <td>1374.470025</td>\n",
              "      <td>4.306816</td>\n",
              "      <td>NaN</td>\n",
              "      <td>5.903579</td>\n",
              "      <td>220.793829</td>\n",
              "    </tr>\n",
              "    <tr>\n",
              "      <th>std</th>\n",
              "      <td>NaN</td>\n",
              "      <td>18.037774</td>\n",
              "      <td>NaN</td>\n",
              "      <td>NaN</td>\n",
              "      <td>13.758559</td>\n",
              "      <td>2.179899</td>\n",
              "      <td>1.424706</td>\n",
              "      <td>214.020981</td>\n",
              "      <td>1.501104</td>\n",
              "      <td>NaN</td>\n",
              "      <td>5.106129</td>\n",
              "      <td>22.207691</td>\n",
              "    </tr>\n",
              "    <tr>\n",
              "      <th>min</th>\n",
              "      <td>NaN</td>\n",
              "      <td>18.000000</td>\n",
              "      <td>NaN</td>\n",
              "      <td>NaN</td>\n",
              "      <td>1.000000</td>\n",
              "      <td>0.000000</td>\n",
              "      <td>0.000000</td>\n",
              "      <td>1200.000000</td>\n",
              "      <td>2.000000</td>\n",
              "      <td>NaN</td>\n",
              "      <td>1.000000</td>\n",
              "      <td>154.220000</td>\n",
              "    </tr>\n",
              "    <tr>\n",
              "      <th>25%</th>\n",
              "      <td>NaN</td>\n",
              "      <td>34.000000</td>\n",
              "      <td>NaN</td>\n",
              "      <td>NaN</td>\n",
              "      <td>5.000000</td>\n",
              "      <td>0.000000</td>\n",
              "      <td>1.000000</td>\n",
              "      <td>1200.000000</td>\n",
              "      <td>3.000000</td>\n",
              "      <td>NaN</td>\n",
              "      <td>2.000000</td>\n",
              "      <td>204.810000</td>\n",
              "    </tr>\n",
              "    <tr>\n",
              "      <th>50%</th>\n",
              "      <td>NaN</td>\n",
              "      <td>50.000000</td>\n",
              "      <td>NaN</td>\n",
              "      <td>NaN</td>\n",
              "      <td>13.000000</td>\n",
              "      <td>0.000000</td>\n",
              "      <td>2.000000</td>\n",
              "      <td>1400.000000</td>\n",
              "      <td>4.000000</td>\n",
              "      <td>NaN</td>\n",
              "      <td>4.000000</td>\n",
              "      <td>220.890000</td>\n",
              "    </tr>\n",
              "    <tr>\n",
              "      <th>75%</th>\n",
              "      <td>NaN</td>\n",
              "      <td>65.000000</td>\n",
              "      <td>NaN</td>\n",
              "      <td>NaN</td>\n",
              "      <td>25.000000</td>\n",
              "      <td>0.000000</td>\n",
              "      <td>3.000000</td>\n",
              "      <td>1400.000000</td>\n",
              "      <td>6.000000</td>\n",
              "      <td>NaN</td>\n",
              "      <td>9.000000</td>\n",
              "      <td>235.960000</td>\n",
              "    </tr>\n",
              "    <tr>\n",
              "      <th>max</th>\n",
              "      <td>NaN</td>\n",
              "      <td>80.000000</td>\n",
              "      <td>NaN</td>\n",
              "      <td>NaN</td>\n",
              "      <td>63.000000</td>\n",
              "      <td>8.000000</td>\n",
              "      <td>4.000000</td>\n",
              "      <td>3800.000000</td>\n",
              "      <td>8.000000</td>\n",
              "      <td>NaN</td>\n",
              "      <td>20.000000</td>\n",
              "      <td>306.070000</td>\n",
              "    </tr>\n",
              "  </tbody>\n",
              "</table>\n",
              "</div>"
            ],
            "text/plain": [
              "               ID          Age Gender  ...  Stored      Car Age      Premium\n",
              "count        4387  4387.000000   4387  ...    4387  4387.000000  4387.000000\n",
              "unique       4387          NaN      4  ...       4          NaN          NaN\n",
              "top     B16288671          NaN      M  ...  Garage          NaN          NaN\n",
              "freq            1          NaN   2232  ...    3057          NaN          NaN\n",
              "mean          NaN    49.435605    NaN  ...     NaN     5.903579   220.793829\n",
              "std           NaN    18.037774    NaN  ...     NaN     5.106129    22.207691\n",
              "min           NaN    18.000000    NaN  ...     NaN     1.000000   154.220000\n",
              "25%           NaN    34.000000    NaN  ...     NaN     2.000000   204.810000\n",
              "50%           NaN    50.000000    NaN  ...     NaN     4.000000   220.890000\n",
              "75%           NaN    65.000000    NaN  ...     NaN     9.000000   235.960000\n",
              "max           NaN    80.000000    NaN  ...     NaN    20.000000   306.070000\n",
              "\n",
              "[11 rows x 12 columns]"
            ]
          },
          "metadata": {
            "tags": []
          },
          "execution_count": 8
        }
      ]
    },
    {
      "cell_type": "markdown",
      "metadata": {
        "id": "087G1VTT8ecT"
      },
      "source": [
        "This data set is (despite the errors you know about!) nice and clean. Many real-world data sets have missing or outlier values, duplicates, corrupted strings or some other noise that can cause trouble for our models. We'll have a brief look at data cleaning in this exercise but when you've completed the exercise it would be worth doing some further reading on approaches to cleaning data in Python (building on what you learned in ITNPBD2 if you were on that module). A couple of good guides are:\n",
        "\n",
        "(https://medium.com/@rrfd/cleaning-and-prepping-data-with-python-for-data-science-best-practices-and-helpful-packages-af1edfbe2a3)\n",
        "(https://www.oreilly.com/library/view/machine-learning-with/9781491989371/ch04.html)\n",
        "\n",
        "\n",
        "As well as the scikit-learn documentation on preprocessing: (https://scikit-learn.org/stable/modules/preprocessing.html)"
      ]
    },
    {
      "cell_type": "markdown",
      "metadata": {
        "id": "AgR4W9Ze8ecU"
      },
      "source": [
        "# Variables and Types\n",
        "Now we'll list the types of the columns..."
      ]
    },
    {
      "cell_type": "code",
      "metadata": {
        "colab": {
          "base_uri": "https://localhost:8080/"
        },
        "id": "BRDQInym8ecU",
        "outputId": "180e915f-029d-4c40-d1db-a92e40ab47a9"
      },
      "source": [
        "df.dtypes"
      ],
      "execution_count": 9,
      "outputs": [
        {
          "output_type": "execute_result",
          "data": {
            "text/plain": [
              "ID                 object\n",
              "Age                 int64\n",
              "Gender             object\n",
              "LicenceCountry     object\n",
              "Yrs DL              int64\n",
              "Points              int64\n",
              "NCD                 int64\n",
              "Engine cc           int64\n",
              "Ins Group           int64\n",
              "Stored             object\n",
              "Car Age             int64\n",
              "Premium           float64\n",
              "dtype: object"
            ]
          },
          "metadata": {
            "tags": []
          },
          "execution_count": 9
        }
      ]
    },
    {
      "cell_type": "markdown",
      "metadata": {
        "id": "dQOgj6M48ecV"
      },
      "source": [
        "Not quite as user friendly as Orange! However, it should be clear that the Pandas library has made a distinction between the two numeric types. int64 is an integer (discrete) and float64 is a floating point number (continuous). object is a categorical variable."
      ]
    },
    {
      "cell_type": "markdown",
      "metadata": {
        "id": "U8zO1m908ecV"
      },
      "source": [
        "# Distributions\n",
        "Let's plot the distributions of our data..."
      ]
    },
    {
      "cell_type": "code",
      "metadata": {
        "colab": {
          "base_uri": "https://localhost:8080/",
          "height": 1000
        },
        "id": "_A05RoUc8ecV",
        "outputId": "4e22c487-82f8-4eee-c615-545c30d87246"
      },
      "source": [
        "df.hist(figsize = (15,20))"
      ],
      "execution_count": 10,
      "outputs": [
        {
          "output_type": "execute_result",
          "data": {
            "text/plain": [
              "array([[<matplotlib.axes._subplots.AxesSubplot object at 0x7f0e8e1d9b00>,\n",
              "        <matplotlib.axes._subplots.AxesSubplot object at 0x7f0e8ce55fd0>,\n",
              "        <matplotlib.axes._subplots.AxesSubplot object at 0x7f0e8ce112b0>],\n",
              "       [<matplotlib.axes._subplots.AxesSubplot object at 0x7f0e8ce6b748>,\n",
              "        <matplotlib.axes._subplots.AxesSubplot object at 0x7f0e8cde95f8>,\n",
              "        <matplotlib.axes._subplots.AxesSubplot object at 0x7f0e8cd9e860>],\n",
              "       [<matplotlib.axes._subplots.AxesSubplot object at 0x7f0e8cdcfac8>,\n",
              "        <matplotlib.axes._subplots.AxesSubplot object at 0x7f0e8cd84cf8>,\n",
              "        <matplotlib.axes._subplots.AxesSubplot object at 0x7f0e8cd84d68>]],\n",
              "      dtype=object)"
            ]
          },
          "metadata": {
            "tags": []
          },
          "execution_count": 10
        },
        {
          "output_type": "display_data",
          "data": {
            "image/png": "[encoded data removed]",
            "text/plain": [
              "<Figure size 1080x1440 with 9 Axes>"
            ]
          },
          "metadata": {
            "tags": [],
            "needs_background": "light"
          }
        }
      ]
    },
    {
      "cell_type": "markdown",
      "metadata": {
        "id": "xGcrF-1q8ecW"
      },
      "source": [
        "We are missing some variables...\n",
        "\n",
        "Those are the non-numeric ones: ID; Gender; LicenceCountry and Stored. There's not really an easy way to handle these, so we'll try a bar plot one at a time for them.\n",
        "\n",
        "NOTE this will take around a minute to run because of the first variable, so be patient."
      ]
    },
    {
      "cell_type": "code",
      "metadata": {
        "colab": {
          "base_uri": "https://localhost:8080/"
        },
        "id": "mjppR7CKEjuc",
        "outputId": "e043fa24-57f5-4577-e928-61600068a397"
      },
      "source": [
        "df['Gender'].value_counts()"
      ],
      "execution_count": 11,
      "outputs": [
        {
          "output_type": "execute_result",
          "data": {
            "text/plain": [
              "M         2232\n",
              "F         2149\n",
              "Male         4\n",
              "Female       2\n",
              "Name: Gender, dtype: int64"
            ]
          },
          "metadata": {
            "tags": []
          },
          "execution_count": 11
        }
      ]
    },
    {
      "cell_type": "code",
      "metadata": {
        "colab": {
          "base_uri": "https://localhost:8080/",
          "height": 693
        },
        "id": "IpCA0hvj9nEH",
        "outputId": "30769eb8-c118-41a2-9c81-716158d23a61"
      },
      "source": [
        "# this will make a bar plot for one variable...\n",
        "df['Gender'].value_counts().plot(kind='bar')\n",
        "\n",
        "# this will list the non-numeric columns...\n",
        "df.select_dtypes(include=object)"
      ],
      "execution_count": 12,
      "outputs": [
        {
          "output_type": "execute_result",
          "data": {
            "text/html": [
              "<div>\n",
              "<style scoped>\n",
              "    .dataframe tbody tr th:only-of-type {\n",
              "        vertical-align: middle;\n",
              "    }\n",
              "\n",
              "    .dataframe tbody tr th {\n",
              "        vertical-align: top;\n",
              "    }\n",
              "\n",
              "    .dataframe thead th {\n",
              "        text-align: right;\n",
              "    }\n",
              "</style>\n",
              "<table border=\"1\" class=\"dataframe\">\n",
              "  <thead>\n",
              "    <tr style=\"text-align: right;\">\n",
              "      <th></th>\n",
              "      <th>ID</th>\n",
              "      <th>Gender</th>\n",
              "      <th>LicenceCountry</th>\n",
              "      <th>Stored</th>\n",
              "    </tr>\n",
              "  </thead>\n",
              "  <tbody>\n",
              "    <tr>\n",
              "      <th>0</th>\n",
              "      <td>B69193007</td>\n",
              "      <td>M</td>\n",
              "      <td>UK</td>\n",
              "      <td>Garage</td>\n",
              "    </tr>\n",
              "    <tr>\n",
              "      <th>1</th>\n",
              "      <td>B58763002</td>\n",
              "      <td>F</td>\n",
              "      <td>UK</td>\n",
              "      <td>Garage</td>\n",
              "    </tr>\n",
              "    <tr>\n",
              "      <th>2</th>\n",
              "      <td>A57010377</td>\n",
              "      <td>F</td>\n",
              "      <td>UK</td>\n",
              "      <td>Garage</td>\n",
              "    </tr>\n",
              "    <tr>\n",
              "      <th>3</th>\n",
              "      <td>B61470950</td>\n",
              "      <td>M</td>\n",
              "      <td>UK</td>\n",
              "      <td>0</td>\n",
              "    </tr>\n",
              "    <tr>\n",
              "      <th>4</th>\n",
              "      <td>B43586226</td>\n",
              "      <td>F</td>\n",
              "      <td>UK</td>\n",
              "      <td>Road</td>\n",
              "    </tr>\n",
              "    <tr>\n",
              "      <th>...</th>\n",
              "      <td>...</td>\n",
              "      <td>...</td>\n",
              "      <td>...</td>\n",
              "      <td>...</td>\n",
              "    </tr>\n",
              "    <tr>\n",
              "      <th>4382</th>\n",
              "      <td>A1126336</td>\n",
              "      <td>M</td>\n",
              "      <td>UK</td>\n",
              "      <td>Garage</td>\n",
              "    </tr>\n",
              "    <tr>\n",
              "      <th>4383</th>\n",
              "      <td>B56077025</td>\n",
              "      <td>F</td>\n",
              "      <td>UK</td>\n",
              "      <td>Road</td>\n",
              "    </tr>\n",
              "    <tr>\n",
              "      <th>4384</th>\n",
              "      <td>B30440487</td>\n",
              "      <td>M</td>\n",
              "      <td>UK</td>\n",
              "      <td>Road</td>\n",
              "    </tr>\n",
              "    <tr>\n",
              "      <th>4385</th>\n",
              "      <td>A48556843</td>\n",
              "      <td>F</td>\n",
              "      <td>UK</td>\n",
              "      <td>Road</td>\n",
              "    </tr>\n",
              "    <tr>\n",
              "      <th>4386</th>\n",
              "      <td>B13063567</td>\n",
              "      <td>F</td>\n",
              "      <td>UK</td>\n",
              "      <td>Drive</td>\n",
              "    </tr>\n",
              "  </tbody>\n",
              "</table>\n",
              "<p>4387 rows × 4 columns</p>\n",
              "</div>"
            ],
            "text/plain": [
              "             ID Gender LicenceCountry  Stored\n",
              "0     B69193007      M             UK  Garage\n",
              "1     B58763002      F             UK  Garage\n",
              "2     A57010377      F             UK  Garage\n",
              "3     B61470950      M             UK       0\n",
              "4     B43586226      F             UK    Road\n",
              "...         ...    ...            ...     ...\n",
              "4382   A1126336      M             UK  Garage\n",
              "4383  B56077025      F             UK    Road\n",
              "4384  B30440487      M             UK    Road\n",
              "4385  A48556843      F             UK    Road\n",
              "4386  B13063567      F             UK   Drive\n",
              "\n",
              "[4387 rows x 4 columns]"
            ]
          },
          "metadata": {
            "tags": []
          },
          "execution_count": 12
        },
        {
          "output_type": "display_data",
          "data": {
            "image/png": "[encoded data removed]",
            "text/plain": [
              "<Figure size 432x288 with 1 Axes>"
            ]
          },
          "metadata": {
            "tags": [],
            "needs_background": "light"
          }
        }
      ]
    },
    {
      "cell_type": "code",
      "metadata": {
        "colab": {
          "base_uri": "https://localhost:8080/"
        },
        "id": "_Njev8fcPIka",
        "outputId": "977ab937-7629-4b4d-fda4-914f08f2d409"
      },
      "source": [
        "\n",
        "# this will list the non-numeric columns...\n",
        "df.select_dtypes "
      ],
      "execution_count": 16,
      "outputs": [
        {
          "output_type": "execute_result",
          "data": {
            "text/plain": [
              "<bound method DataFrame.select_dtypes of              ID  Age Gender LicenceCountry  ...  Ins Group  Stored  Car Age  Premium\n",
              "0     B69193007   52      M             UK  ...          4  Garage        2   195.32\n",
              "1     B58763002   46      F             UK  ...          2  Garage        7   225.09\n",
              "2     A57010377   59      F             UK  ...          5  Garage       14   201.08\n",
              "3     B61470950   62      M             UK  ...          4       0       12   211.76\n",
              "4     B43586226   59      F             UK  ...          5    Road       13   251.49\n",
              "...         ...  ...    ...            ...  ...        ...     ...      ...      ...\n",
              "4382   A1126336   28      M             UK  ...          4  Garage        1   214.03\n",
              "4383  B56077025   76      F             UK  ...          5    Road        1   265.50\n",
              "4384  B30440487   50      M             UK  ...          2    Road        1   250.51\n",
              "4385  A48556843   36      F             UK  ...          5    Road        1   264.92\n",
              "4386  B13063567   36      F             UK  ...          4   Drive        1   208.95\n",
              "\n",
              "[4387 rows x 12 columns]>"
            ]
          },
          "metadata": {
            "tags": []
          },
          "execution_count": 16
        }
      ]
    },
    {
      "cell_type": "code",
      "metadata": {
        "colab": {
          "base_uri": "https://localhost:8080/",
          "height": 1000
        },
        "id": "P0fFwuRhEiTn",
        "outputId": "226f185a-6c87-450f-f866-55e6ced9c485"
      },
      "source": [
        " \n",
        "\n",
        "# so loop over all of them; count each unique value, and plot...\n",
        "import matplotlib.pyplot as plt\n",
        "for col in df.select_dtypes(include=object).columns: \n",
        "    #print(col)\n",
        "    df[col].value_counts().plot(kind='bar')\n",
        "    plt.show()"
      ],
      "execution_count": 13,
      "outputs": [
        {
          "output_type": "display_data",
          "data": {
            "image/png": "[encoded data removed]",
            "text/plain": [
              "<Figure size 432x288 with 1 Axes>"
            ]
          },
          "metadata": {
            "tags": [],
            "needs_background": "light"
          }
        },
        {
          "output_type": "display_data",
          "data": {
            "image/png": "[encoded data removed]",
            "text/plain": [
              "<Figure size 432x288 with 1 Axes>"
            ]
          },
          "metadata": {
            "tags": [],
            "needs_background": "light"
          }
        },
        {
          "output_type": "display_data",
          "data": {
            "image/png": "[encoded data removed]",
            "text/plain": [
              "<Figure size 432x288 with 1 Axes>"
            ]
          },
          "metadata": {
            "tags": [],
            "needs_background": "light"
          }
        },
        {
          "output_type": "display_data",
          "data": {
            "image/png": "[encoded data removed]",
            "text/plain": [
              "<Figure size 432x288 with 1 Axes>"
            ]
          },
          "metadata": {
            "tags": [],
            "needs_background": "light"
          }
        }
      ]
    },
    {
      "cell_type": "code",
      "metadata": {
        "colab": {
          "base_uri": "https://localhost:8080/",
          "height": 1000
        },
        "id": "jj0_QZYO8ecW",
        "outputId": "92abfc43-247a-4b64-d0ab-79437bb4eb6e"
      },
      "source": [
        " \n",
        "\n",
        "# so loop over all of them; count each unique value, and plot...\n",
        "import matplotlib.pyplot as plt\n",
        "for col in df.select_dtypes(include=object).columns: \n",
        "    print(col)\n",
        "    df[col].value_counts().plot(kind='bar')\n",
        "    plt.show()"
      ],
      "execution_count": 15,
      "outputs": [
        {
          "output_type": "stream",
          "text": [
            "ID\n"
          ],
          "name": "stdout"
        },
        {
          "output_type": "display_data",
          "data": {
            "image/png": "[encoded data removed]",
            "text/plain": [
              "<Figure size 432x288 with 1 Axes>"
            ]
          },
          "metadata": {
            "tags": [],
            "needs_background": "light"
          }
        },
        {
          "output_type": "stream",
          "text": [
            "Gender\n"
          ],
          "name": "stdout"
        },
        {
          "output_type": "display_data",
          "data": {
            "image/png": "[encoded data removed]",
            "text/plain": [
              "<Figure size 432x288 with 1 Axes>"
            ]
          },
          "metadata": {
            "tags": [],
            "needs_background": "light"
          }
        },
        {
          "output_type": "stream",
          "text": [
            "LicenceCountry\n"
          ],
          "name": "stdout"
        },
        {
          "output_type": "display_data",
          "data": {
            "image/png": "[encoded data removed]",
            "text/plain": [
              "<Figure size 432x288 with 1 Axes>"
            ]
          },
          "metadata": {
            "tags": [],
            "needs_background": "light"
          }
        },
        {
          "output_type": "stream",
          "text": [
            "Stored\n"
          ],
          "name": "stdout"
        },
        {
          "output_type": "display_data",
          "data": {
            "image/png": "[encoded data removed]",
            "text/plain": [
              "<Figure size 432x288 with 1 Axes>"
            ]
          },
          "metadata": {
            "tags": [],
            "needs_background": "light"
          }
        }
      ]
    },
    {
      "cell_type": "markdown",
      "metadata": {
        "id": "h5j3D3np8ecX"
      },
      "source": [
        "We can clearly see the minority values; there's also a 0 that is probably a missing value. ID is also clearly flat and wide, so we'll be dropping that when we move to modelling."
      ]
    },
    {
      "cell_type": "markdown",
      "metadata": {
        "id": "wNGibwdo8ecY"
      },
      "source": [
        "# Data cleaning\n",
        "\n",
        "As in the Orange exercise, Gender appears to have \"Female\" sometimes when it should be \"F\", and likewise for \"Male\" and \"M\". \"Stored\" seems to have a few entries that are missing, and we might want to remove the \"LicenceCountry\" feature as it doesn’t look all that useful. We'll also explicitly remove the ID variable.\n",
        "\n",
        "First, let's delete the rows where LicenceCountry is not the UK..."
      ]
    },
    {
      "cell_type": "code",
      "metadata": {
        "colab": {
          "base_uri": "https://localhost:8080/",
          "height": 419
        },
        "id": "dor4V1N48ecY",
        "outputId": "1eb0c197-403f-4567-e890-de729e34691d"
      },
      "source": [
        "# copy the data frame so we've still got the original in case we need it\n",
        "df_cleaned = df.copy()\n",
        "\n",
        "# choose the rows we want to keep\n",
        "df_cleaned = df_cleaned[(df_cleaned.LicenceCountry==\"UK\") & (df_cleaned.Stored!=\"0\")]\n",
        "\n",
        "# this is needed so the row numbers are still in sequence\n",
        "df_cleaned.reset_index(drop=True)"
      ],
      "execution_count": 17,
      "outputs": [
        {
          "output_type": "execute_result",
          "data": {
            "text/html": [
              "<div>\n",
              "<style scoped>\n",
              "    .dataframe tbody tr th:only-of-type {\n",
              "        vertical-align: middle;\n",
              "    }\n",
              "\n",
              "    .dataframe tbody tr th {\n",
              "        vertical-align: top;\n",
              "    }\n",
              "\n",
              "    .dataframe thead th {\n",
              "        text-align: right;\n",
              "    }\n",
              "</style>\n",
              "<table border=\"1\" class=\"dataframe\">\n",
              "  <thead>\n",
              "    <tr style=\"text-align: right;\">\n",
              "      <th></th>\n",
              "      <th>ID</th>\n",
              "      <th>Age</th>\n",
              "      <th>Gender</th>\n",
              "      <th>LicenceCountry</th>\n",
              "      <th>Yrs DL</th>\n",
              "      <th>Points</th>\n",
              "      <th>NCD</th>\n",
              "      <th>Engine cc</th>\n",
              "      <th>Ins Group</th>\n",
              "      <th>Stored</th>\n",
              "      <th>Car Age</th>\n",
              "      <th>Premium</th>\n",
              "    </tr>\n",
              "  </thead>\n",
              "  <tbody>\n",
              "    <tr>\n",
              "      <th>0</th>\n",
              "      <td>B69193007</td>\n",
              "      <td>52</td>\n",
              "      <td>M</td>\n",
              "      <td>UK</td>\n",
              "      <td>16</td>\n",
              "      <td>0</td>\n",
              "      <td>0</td>\n",
              "      <td>1200</td>\n",
              "      <td>4</td>\n",
              "      <td>Garage</td>\n",
              "      <td>2</td>\n",
              "      <td>195.32</td>\n",
              "    </tr>\n",
              "    <tr>\n",
              "      <th>1</th>\n",
              "      <td>B58763002</td>\n",
              "      <td>46</td>\n",
              "      <td>F</td>\n",
              "      <td>UK</td>\n",
              "      <td>22</td>\n",
              "      <td>8</td>\n",
              "      <td>1</td>\n",
              "      <td>1400</td>\n",
              "      <td>2</td>\n",
              "      <td>Garage</td>\n",
              "      <td>7</td>\n",
              "      <td>225.09</td>\n",
              "    </tr>\n",
              "    <tr>\n",
              "      <th>2</th>\n",
              "      <td>A57010377</td>\n",
              "      <td>59</td>\n",
              "      <td>F</td>\n",
              "      <td>UK</td>\n",
              "      <td>9</td>\n",
              "      <td>0</td>\n",
              "      <td>0</td>\n",
              "      <td>1400</td>\n",
              "      <td>5</td>\n",
              "      <td>Garage</td>\n",
              "      <td>14</td>\n",
              "      <td>201.08</td>\n",
              "    </tr>\n",
              "    <tr>\n",
              "      <th>3</th>\n",
              "      <td>B43586226</td>\n",
              "      <td>59</td>\n",
              "      <td>F</td>\n",
              "      <td>UK</td>\n",
              "      <td>3</td>\n",
              "      <td>0</td>\n",
              "      <td>4</td>\n",
              "      <td>1400</td>\n",
              "      <td>5</td>\n",
              "      <td>Road</td>\n",
              "      <td>13</td>\n",
              "      <td>251.49</td>\n",
              "    </tr>\n",
              "    <tr>\n",
              "      <th>4</th>\n",
              "      <td>B78248875</td>\n",
              "      <td>78</td>\n",
              "      <td>M</td>\n",
              "      <td>UK</td>\n",
              "      <td>57</td>\n",
              "      <td>4</td>\n",
              "      <td>1</td>\n",
              "      <td>1800</td>\n",
              "      <td>3</td>\n",
              "      <td>Garage</td>\n",
              "      <td>1</td>\n",
              "      <td>229.46</td>\n",
              "    </tr>\n",
              "    <tr>\n",
              "      <th>...</th>\n",
              "      <td>...</td>\n",
              "      <td>...</td>\n",
              "      <td>...</td>\n",
              "      <td>...</td>\n",
              "      <td>...</td>\n",
              "      <td>...</td>\n",
              "      <td>...</td>\n",
              "      <td>...</td>\n",
              "      <td>...</td>\n",
              "      <td>...</td>\n",
              "      <td>...</td>\n",
              "      <td>...</td>\n",
              "    </tr>\n",
              "    <tr>\n",
              "      <th>4369</th>\n",
              "      <td>A1126336</td>\n",
              "      <td>28</td>\n",
              "      <td>M</td>\n",
              "      <td>UK</td>\n",
              "      <td>8</td>\n",
              "      <td>0</td>\n",
              "      <td>3</td>\n",
              "      <td>1200</td>\n",
              "      <td>4</td>\n",
              "      <td>Garage</td>\n",
              "      <td>1</td>\n",
              "      <td>214.03</td>\n",
              "    </tr>\n",
              "    <tr>\n",
              "      <th>4370</th>\n",
              "      <td>B56077025</td>\n",
              "      <td>76</td>\n",
              "      <td>F</td>\n",
              "      <td>UK</td>\n",
              "      <td>41</td>\n",
              "      <td>0</td>\n",
              "      <td>4</td>\n",
              "      <td>1600</td>\n",
              "      <td>5</td>\n",
              "      <td>Road</td>\n",
              "      <td>1</td>\n",
              "      <td>265.50</td>\n",
              "    </tr>\n",
              "    <tr>\n",
              "      <th>4371</th>\n",
              "      <td>B30440487</td>\n",
              "      <td>50</td>\n",
              "      <td>M</td>\n",
              "      <td>UK</td>\n",
              "      <td>32</td>\n",
              "      <td>0</td>\n",
              "      <td>4</td>\n",
              "      <td>1200</td>\n",
              "      <td>2</td>\n",
              "      <td>Road</td>\n",
              "      <td>1</td>\n",
              "      <td>250.51</td>\n",
              "    </tr>\n",
              "    <tr>\n",
              "      <th>4372</th>\n",
              "      <td>A48556843</td>\n",
              "      <td>36</td>\n",
              "      <td>F</td>\n",
              "      <td>UK</td>\n",
              "      <td>12</td>\n",
              "      <td>8</td>\n",
              "      <td>3</td>\n",
              "      <td>1200</td>\n",
              "      <td>5</td>\n",
              "      <td>Road</td>\n",
              "      <td>1</td>\n",
              "      <td>264.92</td>\n",
              "    </tr>\n",
              "    <tr>\n",
              "      <th>4373</th>\n",
              "      <td>B13063567</td>\n",
              "      <td>36</td>\n",
              "      <td>F</td>\n",
              "      <td>UK</td>\n",
              "      <td>2</td>\n",
              "      <td>0</td>\n",
              "      <td>3</td>\n",
              "      <td>1200</td>\n",
              "      <td>4</td>\n",
              "      <td>Drive</td>\n",
              "      <td>1</td>\n",
              "      <td>208.95</td>\n",
              "    </tr>\n",
              "  </tbody>\n",
              "</table>\n",
              "<p>4374 rows × 12 columns</p>\n",
              "</div>"
            ],
            "text/plain": [
              "             ID  Age Gender LicenceCountry  ...  Ins Group  Stored  Car Age  Premium\n",
              "0     B69193007   52      M             UK  ...          4  Garage        2   195.32\n",
              "1     B58763002   46      F             UK  ...          2  Garage        7   225.09\n",
              "2     A57010377   59      F             UK  ...          5  Garage       14   201.08\n",
              "3     B43586226   59      F             UK  ...          5    Road       13   251.49\n",
              "4     B78248875   78      M             UK  ...          3  Garage        1   229.46\n",
              "...         ...  ...    ...            ...  ...        ...     ...      ...      ...\n",
              "4369   A1126336   28      M             UK  ...          4  Garage        1   214.03\n",
              "4370  B56077025   76      F             UK  ...          5    Road        1   265.50\n",
              "4371  B30440487   50      M             UK  ...          2    Road        1   250.51\n",
              "4372  A48556843   36      F             UK  ...          5    Road        1   264.92\n",
              "4373  B13063567   36      F             UK  ...          4   Drive        1   208.95\n",
              "\n",
              "[4374 rows x 12 columns]"
            ]
          },
          "metadata": {
            "tags": []
          },
          "execution_count": 17
        }
      ]
    },
    {
      "cell_type": "code",
      "metadata": {
        "id": "hH3AgoyvFMMo"
      },
      "source": [
        "# copy the data frame so we've still got the original in case we need it\n",
        "df_cleaned = df.copy()\n",
        "\n",
        "# choose the rows we want to keep\n",
        "df_cleaned = df_cleaned[(df_cleaned.LicenceCountry==\"UK\") & (df_cleaned.Stored!=\"0\")]\n",
        "\n",
        "# this is needed so the row numbers are still in sequence\n"
      ],
      "execution_count": 18,
      "outputs": []
    },
    {
      "cell_type": "code",
      "metadata": {
        "colab": {
          "base_uri": "https://localhost:8080/",
          "height": 419
        },
        "id": "6wQpH6rVFT9A",
        "outputId": "7799a236-d704-4e0f-83a6-6406c07e3c00"
      },
      "source": [
        "df_cleaned.reset_index(drop=False)"
      ],
      "execution_count": 19,
      "outputs": [
        {
          "output_type": "execute_result",
          "data": {
            "text/html": [
              "<div>\n",
              "<style scoped>\n",
              "    .dataframe tbody tr th:only-of-type {\n",
              "        vertical-align: middle;\n",
              "    }\n",
              "\n",
              "    .dataframe tbody tr th {\n",
              "        vertical-align: top;\n",
              "    }\n",
              "\n",
              "    .dataframe thead th {\n",
              "        text-align: right;\n",
              "    }\n",
              "</style>\n",
              "<table border=\"1\" class=\"dataframe\">\n",
              "  <thead>\n",
              "    <tr style=\"text-align: right;\">\n",
              "      <th></th>\n",
              "      <th>index</th>\n",
              "      <th>ID</th>\n",
              "      <th>Age</th>\n",
              "      <th>Gender</th>\n",
              "      <th>LicenceCountry</th>\n",
              "      <th>Yrs DL</th>\n",
              "      <th>Points</th>\n",
              "      <th>NCD</th>\n",
              "      <th>Engine cc</th>\n",
              "      <th>Ins Group</th>\n",
              "      <th>Stored</th>\n",
              "      <th>Car Age</th>\n",
              "      <th>Premium</th>\n",
              "    </tr>\n",
              "  </thead>\n",
              "  <tbody>\n",
              "    <tr>\n",
              "      <th>0</th>\n",
              "      <td>0</td>\n",
              "      <td>B69193007</td>\n",
              "      <td>52</td>\n",
              "      <td>M</td>\n",
              "      <td>UK</td>\n",
              "      <td>16</td>\n",
              "      <td>0</td>\n",
              "      <td>0</td>\n",
              "      <td>1200</td>\n",
              "      <td>4</td>\n",
              "      <td>Garage</td>\n",
              "      <td>2</td>\n",
              "      <td>195.32</td>\n",
              "    </tr>\n",
              "    <tr>\n",
              "      <th>1</th>\n",
              "      <td>1</td>\n",
              "      <td>B58763002</td>\n",
              "      <td>46</td>\n",
              "      <td>F</td>\n",
              "      <td>UK</td>\n",
              "      <td>22</td>\n",
              "      <td>8</td>\n",
              "      <td>1</td>\n",
              "      <td>1400</td>\n",
              "      <td>2</td>\n",
              "      <td>Garage</td>\n",
              "      <td>7</td>\n",
              "      <td>225.09</td>\n",
              "    </tr>\n",
              "    <tr>\n",
              "      <th>2</th>\n",
              "      <td>2</td>\n",
              "      <td>A57010377</td>\n",
              "      <td>59</td>\n",
              "      <td>F</td>\n",
              "      <td>UK</td>\n",
              "      <td>9</td>\n",
              "      <td>0</td>\n",
              "      <td>0</td>\n",
              "      <td>1400</td>\n",
              "      <td>5</td>\n",
              "      <td>Garage</td>\n",
              "      <td>14</td>\n",
              "      <td>201.08</td>\n",
              "    </tr>\n",
              "    <tr>\n",
              "      <th>3</th>\n",
              "      <td>4</td>\n",
              "      <td>B43586226</td>\n",
              "      <td>59</td>\n",
              "      <td>F</td>\n",
              "      <td>UK</td>\n",
              "      <td>3</td>\n",
              "      <td>0</td>\n",
              "      <td>4</td>\n",
              "      <td>1400</td>\n",
              "      <td>5</td>\n",
              "      <td>Road</td>\n",
              "      <td>13</td>\n",
              "      <td>251.49</td>\n",
              "    </tr>\n",
              "    <tr>\n",
              "      <th>4</th>\n",
              "      <td>5</td>\n",
              "      <td>B78248875</td>\n",
              "      <td>78</td>\n",
              "      <td>M</td>\n",
              "      <td>UK</td>\n",
              "      <td>57</td>\n",
              "      <td>4</td>\n",
              "      <td>1</td>\n",
              "      <td>1800</td>\n",
              "      <td>3</td>\n",
              "      <td>Garage</td>\n",
              "      <td>1</td>\n",
              "      <td>229.46</td>\n",
              "    </tr>\n",
              "    <tr>\n",
              "      <th>...</th>\n",
              "      <td>...</td>\n",
              "      <td>...</td>\n",
              "      <td>...</td>\n",
              "      <td>...</td>\n",
              "      <td>...</td>\n",
              "      <td>...</td>\n",
              "      <td>...</td>\n",
              "      <td>...</td>\n",
              "      <td>...</td>\n",
              "      <td>...</td>\n",
              "      <td>...</td>\n",
              "      <td>...</td>\n",
              "      <td>...</td>\n",
              "    </tr>\n",
              "    <tr>\n",
              "      <th>4369</th>\n",
              "      <td>4382</td>\n",
              "      <td>A1126336</td>\n",
              "      <td>28</td>\n",
              "      <td>M</td>\n",
              "      <td>UK</td>\n",
              "      <td>8</td>\n",
              "      <td>0</td>\n",
              "      <td>3</td>\n",
              "      <td>1200</td>\n",
              "      <td>4</td>\n",
              "      <td>Garage</td>\n",
              "      <td>1</td>\n",
              "      <td>214.03</td>\n",
              "    </tr>\n",
              "    <tr>\n",
              "      <th>4370</th>\n",
              "      <td>4383</td>\n",
              "      <td>B56077025</td>\n",
              "      <td>76</td>\n",
              "      <td>F</td>\n",
              "      <td>UK</td>\n",
              "      <td>41</td>\n",
              "      <td>0</td>\n",
              "      <td>4</td>\n",
              "      <td>1600</td>\n",
              "      <td>5</td>\n",
              "      <td>Road</td>\n",
              "      <td>1</td>\n",
              "      <td>265.50</td>\n",
              "    </tr>\n",
              "    <tr>\n",
              "      <th>4371</th>\n",
              "      <td>4384</td>\n",
              "      <td>B30440487</td>\n",
              "      <td>50</td>\n",
              "      <td>M</td>\n",
              "      <td>UK</td>\n",
              "      <td>32</td>\n",
              "      <td>0</td>\n",
              "      <td>4</td>\n",
              "      <td>1200</td>\n",
              "      <td>2</td>\n",
              "      <td>Road</td>\n",
              "      <td>1</td>\n",
              "      <td>250.51</td>\n",
              "    </tr>\n",
              "    <tr>\n",
              "      <th>4372</th>\n",
              "      <td>4385</td>\n",
              "      <td>A48556843</td>\n",
              "      <td>36</td>\n",
              "      <td>F</td>\n",
              "      <td>UK</td>\n",
              "      <td>12</td>\n",
              "      <td>8</td>\n",
              "      <td>3</td>\n",
              "      <td>1200</td>\n",
              "      <td>5</td>\n",
              "      <td>Road</td>\n",
              "      <td>1</td>\n",
              "      <td>264.92</td>\n",
              "    </tr>\n",
              "    <tr>\n",
              "      <th>4373</th>\n",
              "      <td>4386</td>\n",
              "      <td>B13063567</td>\n",
              "      <td>36</td>\n",
              "      <td>F</td>\n",
              "      <td>UK</td>\n",
              "      <td>2</td>\n",
              "      <td>0</td>\n",
              "      <td>3</td>\n",
              "      <td>1200</td>\n",
              "      <td>4</td>\n",
              "      <td>Drive</td>\n",
              "      <td>1</td>\n",
              "      <td>208.95</td>\n",
              "    </tr>\n",
              "  </tbody>\n",
              "</table>\n",
              "<p>4374 rows × 13 columns</p>\n",
              "</div>"
            ],
            "text/plain": [
              "      index         ID  Age Gender  ... Ins Group  Stored  Car Age  Premium\n",
              "0         0  B69193007   52      M  ...         4  Garage        2   195.32\n",
              "1         1  B58763002   46      F  ...         2  Garage        7   225.09\n",
              "2         2  A57010377   59      F  ...         5  Garage       14   201.08\n",
              "3         4  B43586226   59      F  ...         5    Road       13   251.49\n",
              "4         5  B78248875   78      M  ...         3  Garage        1   229.46\n",
              "...     ...        ...  ...    ...  ...       ...     ...      ...      ...\n",
              "4369   4382   A1126336   28      M  ...         4  Garage        1   214.03\n",
              "4370   4383  B56077025   76      F  ...         5    Road        1   265.50\n",
              "4371   4384  B30440487   50      M  ...         2    Road        1   250.51\n",
              "4372   4385  A48556843   36      F  ...         5    Road        1   264.92\n",
              "4373   4386  B13063567   36      F  ...         4   Drive        1   208.95\n",
              "\n",
              "[4374 rows x 13 columns]"
            ]
          },
          "metadata": {
            "tags": []
          },
          "execution_count": 19
        }
      ]
    },
    {
      "cell_type": "markdown",
      "metadata": {
        "id": "DIr3DGpB8ecZ"
      },
      "source": [
        "Check it's worked: there should only be one bar now!"
      ]
    },
    {
      "cell_type": "code",
      "metadata": {
        "colab": {
          "base_uri": "https://localhost:8080/",
          "height": 286
        },
        "id": "kFjO5NNT8eca",
        "outputId": "06f71d6f-1eb0-4732-8c2c-51c4c2610d68"
      },
      "source": [
        "df_cleaned['LicenceCountry'].value_counts().plot(kind='bar')"
      ],
      "execution_count": 20,
      "outputs": [
        {
          "output_type": "execute_result",
          "data": {
            "text/plain": [
              "<matplotlib.axes._subplots.AxesSubplot at 0x7f0e7eccbe10>"
            ]
          },
          "metadata": {
            "tags": []
          },
          "execution_count": 20
        },
        {
          "output_type": "display_data",
          "data": {
            "image/png": "[encoded data removed]",
            "text/plain": [
              "<Figure size 432x288 with 1 Axes>"
            ]
          },
          "metadata": {
            "tags": [],
            "needs_background": "light"
          }
        }
      ]
    },
    {
      "cell_type": "code",
      "metadata": {
        "colab": {
          "base_uri": "https://localhost:8080/"
        },
        "id": "FjrCA_0iFcNQ",
        "outputId": "2d16a2a5-183a-4606-975b-31ca238b1f42"
      },
      "source": [
        "df_cleaned['LicenceCountry'].value_counts() "
      ],
      "execution_count": 21,
      "outputs": [
        {
          "output_type": "execute_result",
          "data": {
            "text/plain": [
              "UK    4374\n",
              "Name: LicenceCountry, dtype: int64"
            ]
          },
          "metadata": {
            "tags": []
          },
          "execution_count": 21
        }
      ]
    },
    {
      "cell_type": "markdown",
      "metadata": {
        "id": "52nXwXWr8eca"
      },
      "source": [
        "And only three bars here..."
      ]
    },
    {
      "cell_type": "code",
      "metadata": {
        "colab": {
          "base_uri": "https://localhost:8080/",
          "height": 309
        },
        "id": "QK1mXaLi8ecb",
        "outputId": "36a4a835-cad6-4c92-c2f5-80250c472a29"
      },
      "source": [
        "df_cleaned['Stored'].value_counts().plot(kind='bar')"
      ],
      "execution_count": 22,
      "outputs": [
        {
          "output_type": "execute_result",
          "data": {
            "text/plain": [
              "<matplotlib.axes._subplots.AxesSubplot at 0x7f0e898fcda0>"
            ]
          },
          "metadata": {
            "tags": []
          },
          "execution_count": 22
        },
        {
          "output_type": "display_data",
          "data": {
            "image/png": "[encoded data removed]",
            "text/plain": [
              "<Figure size 432x288 with 1 Axes>"
            ]
          },
          "metadata": {
            "tags": [],
            "needs_background": "light"
          }
        }
      ]
    },
    {
      "cell_type": "markdown",
      "metadata": {
        "id": "x4TSK0FH8ecb"
      },
      "source": [
        "Now, let's select only the columns we want to keep..."
      ]
    },
    {
      "cell_type": "code",
      "metadata": {
        "id": "SkJzaktG8ecc"
      },
      "source": [
        "# define the list of features to keep\n",
        "selected_features = ['Age','Gender','Yrs DL','Points','NCD','Engine cc',\n",
        "                     'Ins Group','Stored','Car Age','Premium']\n",
        "\n",
        "# update the data frame\n",
        "df_cleaned = df_cleaned[selected_features]"
      ],
      "execution_count": 23,
      "outputs": []
    },
    {
      "cell_type": "code",
      "metadata": {
        "id": "f6UpsdBb8ecc"
      },
      "source": [
        "# The histogram showed us Gender had some 'Female' and 'Male' values, which we'll map to F and M\n",
        "# we can use a dictionary to set up the mapping...\n",
        "df_cleaned['Gender'] = df_cleaned['Gender'].replace({'Female':'F','Male':'M'})\n",
        "\n",
        "# just to check it's worked...\n"
      ],
      "execution_count": 24,
      "outputs": []
    },
    {
      "cell_type": "code",
      "metadata": {
        "colab": {
          "base_uri": "https://localhost:8080/",
          "height": 281
        },
        "id": "L9Af9tFmETvr",
        "outputId": "7c26efb4-5445-4d90-9c49-f3858c2f2b4a"
      },
      "source": [
        "df_cleaned['Gender'].value_counts().plot(kind='bar')"
      ],
      "execution_count": 25,
      "outputs": [
        {
          "output_type": "execute_result",
          "data": {
            "text/plain": [
              "<matplotlib.axes._subplots.AxesSubplot at 0x7f0e7e092780>"
            ]
          },
          "metadata": {
            "tags": []
          },
          "execution_count": 25
        },
        {
          "output_type": "display_data",
          "data": {
            "image/png": "[encoded data removed]",
            "text/plain": [
              "<Figure size 432x288 with 1 Axes>"
            ]
          },
          "metadata": {
            "tags": [],
            "needs_background": "light"
          }
        }
      ]
    },
    {
      "cell_type": "markdown",
      "metadata": {
        "id": "_yjqsv1o8ecd"
      },
      "source": [
        "# Encoding variables"
      ]
    },
    {
      "cell_type": "markdown",
      "metadata": {
        "id": "7lheXoEw8ecd"
      },
      "source": [
        "A few of the variables above are not numeric: *Gender* and *Stored* are strings (categorical). In theory it is possible for some model types (for example, trees) to use categorical variables directly, but sklearn does not support this. So for the model to work with this data, we'll need to convert these variables to numeric values. (Orange does this automatically in the background)\n",
        "\n",
        "sklearn provides a couple of encoders to do this:\n",
        "* sklearn.preprocessing.OrdinalEncoder - for string variables where there is a natural order to the values (e.g. \"light\"/\"medium\"/\"heavy\") - *ordinal* variables - this will transform the values into 0,1,2,3...\n",
        "* sklearn.preprocessing.OneHotEncoder - for string variables where there is no natural order to the values (e.g. place names, job titles) - *nominal* variables - this will create a new feature for each possible value, with the value 0 or 1.\n",
        "\n",
        "You can read more about the encoders [here](https://scikit-learn.org/stable/modules/preprocessing.html#encoding-categorical-features) and how you might combine them for mixed-type data [here](https://scikit-learn.org/stable/auto_examples/compose/plot_column_transformer_mixed_types.html).\n",
        "\n",
        "In our data, *Gender* and *Stored* do not have a natural order, so we want one-hot encoding. While the encoders above are arguably more flexible, a simpler way to apply one-hot encoding is built in to pandas, and that's what we'll use..."
      ]
    },
    {
      "cell_type": "code",
      "metadata": {
        "id": "jA2DQYbv8ece"
      },
      "source": [
        "df_cleaned = pd.get_dummies(df_cleaned, prefix_sep='_', drop_first=False)"
      ],
      "execution_count": 27,
      "outputs": []
    },
    {
      "cell_type": "code",
      "metadata": {
        "id": "I8sUw0bOPxNR"
      },
      "source": [
        "df_cleaned = pd.get_dummies(df_cleaned, prefix_sep='_', drop_first=False)"
      ],
      "execution_count": 28,
      "outputs": []
    },
    {
      "cell_type": "markdown",
      "metadata": {
        "id": "jxrvcpri8ece"
      },
      "source": [
        "This function takes a data frame and returns another data frame with the transformation applied. The argument *prefix_sep='_'* is used to make the names of the newly created features;  *drop_first=True* removes one column from the resulting dummy features; this is to avoid multicollinearity, which can be a [problem](https://www.algosome.com/articles/dummy-variable-trap-regression.html) for some model types. Let's take a look at the data now:"
      ]
    },
    {
      "cell_type": "code",
      "metadata": {
        "scrolled": true,
        "colab": {
          "base_uri": "https://localhost:8080/",
          "height": 204
        },
        "id": "SkeG4t5Y8ecf",
        "outputId": "db8e54d3-194e-4ee2-f73f-7911e1c5e9a3"
      },
      "source": [
        "df_cleaned.head()"
      ],
      "execution_count": 29,
      "outputs": [
        {
          "output_type": "execute_result",
          "data": {
            "text/html": [
              "<div>\n",
              "<style scoped>\n",
              "    .dataframe tbody tr th:only-of-type {\n",
              "        vertical-align: middle;\n",
              "    }\n",
              "\n",
              "    .dataframe tbody tr th {\n",
              "        vertical-align: top;\n",
              "    }\n",
              "\n",
              "    .dataframe thead th {\n",
              "        text-align: right;\n",
              "    }\n",
              "</style>\n",
              "<table border=\"1\" class=\"dataframe\">\n",
              "  <thead>\n",
              "    <tr style=\"text-align: right;\">\n",
              "      <th></th>\n",
              "      <th>Age</th>\n",
              "      <th>Yrs DL</th>\n",
              "      <th>Points</th>\n",
              "      <th>NCD</th>\n",
              "      <th>Engine cc</th>\n",
              "      <th>Ins Group</th>\n",
              "      <th>Car Age</th>\n",
              "      <th>Premium</th>\n",
              "      <th>Gender_F</th>\n",
              "      <th>Gender_M</th>\n",
              "      <th>Stored_Drive</th>\n",
              "      <th>Stored_Garage</th>\n",
              "      <th>Stored_Road</th>\n",
              "    </tr>\n",
              "  </thead>\n",
              "  <tbody>\n",
              "    <tr>\n",
              "      <th>0</th>\n",
              "      <td>52</td>\n",
              "      <td>16</td>\n",
              "      <td>0</td>\n",
              "      <td>0</td>\n",
              "      <td>1200</td>\n",
              "      <td>4</td>\n",
              "      <td>2</td>\n",
              "      <td>195.32</td>\n",
              "      <td>0</td>\n",
              "      <td>1</td>\n",
              "      <td>0</td>\n",
              "      <td>1</td>\n",
              "      <td>0</td>\n",
              "    </tr>\n",
              "    <tr>\n",
              "      <th>1</th>\n",
              "      <td>46</td>\n",
              "      <td>22</td>\n",
              "      <td>8</td>\n",
              "      <td>1</td>\n",
              "      <td>1400</td>\n",
              "      <td>2</td>\n",
              "      <td>7</td>\n",
              "      <td>225.09</td>\n",
              "      <td>1</td>\n",
              "      <td>0</td>\n",
              "      <td>0</td>\n",
              "      <td>1</td>\n",
              "      <td>0</td>\n",
              "    </tr>\n",
              "    <tr>\n",
              "      <th>2</th>\n",
              "      <td>59</td>\n",
              "      <td>9</td>\n",
              "      <td>0</td>\n",
              "      <td>0</td>\n",
              "      <td>1400</td>\n",
              "      <td>5</td>\n",
              "      <td>14</td>\n",
              "      <td>201.08</td>\n",
              "      <td>1</td>\n",
              "      <td>0</td>\n",
              "      <td>0</td>\n",
              "      <td>1</td>\n",
              "      <td>0</td>\n",
              "    </tr>\n",
              "    <tr>\n",
              "      <th>4</th>\n",
              "      <td>59</td>\n",
              "      <td>3</td>\n",
              "      <td>0</td>\n",
              "      <td>4</td>\n",
              "      <td>1400</td>\n",
              "      <td>5</td>\n",
              "      <td>13</td>\n",
              "      <td>251.49</td>\n",
              "      <td>1</td>\n",
              "      <td>0</td>\n",
              "      <td>0</td>\n",
              "      <td>0</td>\n",
              "      <td>1</td>\n",
              "    </tr>\n",
              "    <tr>\n",
              "      <th>5</th>\n",
              "      <td>78</td>\n",
              "      <td>57</td>\n",
              "      <td>4</td>\n",
              "      <td>1</td>\n",
              "      <td>1800</td>\n",
              "      <td>3</td>\n",
              "      <td>1</td>\n",
              "      <td>229.46</td>\n",
              "      <td>0</td>\n",
              "      <td>1</td>\n",
              "      <td>0</td>\n",
              "      <td>1</td>\n",
              "      <td>0</td>\n",
              "    </tr>\n",
              "  </tbody>\n",
              "</table>\n",
              "</div>"
            ],
            "text/plain": [
              "   Age  Yrs DL  Points  NCD  ...  Gender_M  Stored_Drive  Stored_Garage  Stored_Road\n",
              "0   52      16       0    0  ...         1             0              1            0\n",
              "1   46      22       8    1  ...         0             0              1            0\n",
              "2   59       9       0    0  ...         0             0              1            0\n",
              "4   59       3       0    4  ...         0             0              0            1\n",
              "5   78      57       4    1  ...         1             0              1            0\n",
              "\n",
              "[5 rows x 13 columns]"
            ]
          },
          "metadata": {
            "tags": []
          },
          "execution_count": 29
        }
      ]
    },
    {
      "cell_type": "markdown",
      "metadata": {
        "id": "ikkKldMz8ecf"
      },
      "source": [
        "You can see that we've now created some extra columns in place of Gender and Stored."
      ]
    },
    {
      "cell_type": "code",
      "metadata": {
        "id": "KuM6ePv7P0iH"
      },
      "source": [
        "df_cleaned = pd.get_dummies(df_cleaned, drop_first=True)"
      ],
      "execution_count": 32,
      "outputs": []
    },
    {
      "cell_type": "code",
      "metadata": {
        "colab": {
          "base_uri": "https://localhost:8080/",
          "height": 204
        },
        "id": "3ZvigNihP4eH",
        "outputId": "8c42319a-97b2-4c2d-b69f-160efbde5a12"
      },
      "source": [
        "df_cleaned.head()"
      ],
      "execution_count": 33,
      "outputs": [
        {
          "output_type": "execute_result",
          "data": {
            "text/html": [
              "<div>\n",
              "<style scoped>\n",
              "    .dataframe tbody tr th:only-of-type {\n",
              "        vertical-align: middle;\n",
              "    }\n",
              "\n",
              "    .dataframe tbody tr th {\n",
              "        vertical-align: top;\n",
              "    }\n",
              "\n",
              "    .dataframe thead th {\n",
              "        text-align: right;\n",
              "    }\n",
              "</style>\n",
              "<table border=\"1\" class=\"dataframe\">\n",
              "  <thead>\n",
              "    <tr style=\"text-align: right;\">\n",
              "      <th></th>\n",
              "      <th>Age</th>\n",
              "      <th>Yrs DL</th>\n",
              "      <th>Points</th>\n",
              "      <th>NCD</th>\n",
              "      <th>Engine cc</th>\n",
              "      <th>Ins Group</th>\n",
              "      <th>Car Age</th>\n",
              "      <th>Premium</th>\n",
              "      <th>Gender_F</th>\n",
              "      <th>Gender_M</th>\n",
              "      <th>Stored_Drive</th>\n",
              "      <th>Stored_Garage</th>\n",
              "      <th>Stored_Road</th>\n",
              "    </tr>\n",
              "  </thead>\n",
              "  <tbody>\n",
              "    <tr>\n",
              "      <th>0</th>\n",
              "      <td>52</td>\n",
              "      <td>16</td>\n",
              "      <td>0</td>\n",
              "      <td>0</td>\n",
              "      <td>1200</td>\n",
              "      <td>4</td>\n",
              "      <td>2</td>\n",
              "      <td>195.32</td>\n",
              "      <td>0</td>\n",
              "      <td>1</td>\n",
              "      <td>0</td>\n",
              "      <td>1</td>\n",
              "      <td>0</td>\n",
              "    </tr>\n",
              "    <tr>\n",
              "      <th>1</th>\n",
              "      <td>46</td>\n",
              "      <td>22</td>\n",
              "      <td>8</td>\n",
              "      <td>1</td>\n",
              "      <td>1400</td>\n",
              "      <td>2</td>\n",
              "      <td>7</td>\n",
              "      <td>225.09</td>\n",
              "      <td>1</td>\n",
              "      <td>0</td>\n",
              "      <td>0</td>\n",
              "      <td>1</td>\n",
              "      <td>0</td>\n",
              "    </tr>\n",
              "    <tr>\n",
              "      <th>2</th>\n",
              "      <td>59</td>\n",
              "      <td>9</td>\n",
              "      <td>0</td>\n",
              "      <td>0</td>\n",
              "      <td>1400</td>\n",
              "      <td>5</td>\n",
              "      <td>14</td>\n",
              "      <td>201.08</td>\n",
              "      <td>1</td>\n",
              "      <td>0</td>\n",
              "      <td>0</td>\n",
              "      <td>1</td>\n",
              "      <td>0</td>\n",
              "    </tr>\n",
              "    <tr>\n",
              "      <th>4</th>\n",
              "      <td>59</td>\n",
              "      <td>3</td>\n",
              "      <td>0</td>\n",
              "      <td>4</td>\n",
              "      <td>1400</td>\n",
              "      <td>5</td>\n",
              "      <td>13</td>\n",
              "      <td>251.49</td>\n",
              "      <td>1</td>\n",
              "      <td>0</td>\n",
              "      <td>0</td>\n",
              "      <td>0</td>\n",
              "      <td>1</td>\n",
              "    </tr>\n",
              "    <tr>\n",
              "      <th>5</th>\n",
              "      <td>78</td>\n",
              "      <td>57</td>\n",
              "      <td>4</td>\n",
              "      <td>1</td>\n",
              "      <td>1800</td>\n",
              "      <td>3</td>\n",
              "      <td>1</td>\n",
              "      <td>229.46</td>\n",
              "      <td>0</td>\n",
              "      <td>1</td>\n",
              "      <td>0</td>\n",
              "      <td>1</td>\n",
              "      <td>0</td>\n",
              "    </tr>\n",
              "  </tbody>\n",
              "</table>\n",
              "</div>"
            ],
            "text/plain": [
              "   Age  Yrs DL  Points  NCD  ...  Gender_M  Stored_Drive  Stored_Garage  Stored_Road\n",
              "0   52      16       0    0  ...         1             0              1            0\n",
              "1   46      22       8    1  ...         0             0              1            0\n",
              "2   59       9       0    0  ...         0             0              1            0\n",
              "4   59       3       0    4  ...         0             0              0            1\n",
              "5   78      57       4    1  ...         1             0              1            0\n",
              "\n",
              "[5 rows x 13 columns]"
            ]
          },
          "metadata": {
            "tags": []
          },
          "execution_count": 33
        }
      ]
    },
    {
      "cell_type": "markdown",
      "metadata": {
        "id": "JGKUdAAd8ecf"
      },
      "source": [
        "# Set the features and targets\n",
        "We can now extract the columns we want for features and targets as numpy arrays ready for passing to a model. By convention, we use names including `X` as the 2-D array of features, and `y` as the 1-D array of targets."
      ]
    },
    {
      "cell_type": "code",
      "metadata": {
        "id": "_Gj6svi58ecg"
      },
      "source": [
        "targetName=\"Premium\"\n"
      ],
      "execution_count": 34,
      "outputs": []
    },
    {
      "cell_type": "code",
      "metadata": {
        "colab": {
          "base_uri": "https://localhost:8080/"
        },
        "id": "ngMmzH7-QQqy",
        "outputId": "023fd132-4439-4681-dee4-b04aef3ae0fc"
      },
      "source": [
        "df_cleaned.columns.get_loc(targetName)"
      ],
      "execution_count": 36,
      "outputs": [
        {
          "output_type": "execute_result",
          "data": {
            "text/plain": [
              "7"
            ]
          },
          "metadata": {
            "tags": []
          },
          "execution_count": 36
        }
      ]
    },
    {
      "cell_type": "code",
      "metadata": {
        "id": "chgKoN00QTNM"
      },
      "source": [
        "\n",
        "featureNames=df_cleaned.columns[np.where(df_cleaned.columns != targetName)]\n"
      ],
      "execution_count": 41,
      "outputs": []
    },
    {
      "cell_type": "code",
      "metadata": {
        "colab": {
          "base_uri": "https://localhost:8080/"
        },
        "id": "xsyPbVKQQkos",
        "outputId": "2d1a80ec-d260-4528-abb5-b919ec4d69c7"
      },
      "source": [
        "featureNames"
      ],
      "execution_count": 43,
      "outputs": [
        {
          "output_type": "execute_result",
          "data": {
            "text/plain": [
              "Index(['Age', 'Yrs DL', 'Points', 'NCD', 'Engine cc', 'Ins Group', 'Car Age',\n",
              "       'Gender_F', 'Gender_M', 'Stored_Drive', 'Stored_Garage', 'Stored_Road'],\n",
              "      dtype='object')"
            ]
          },
          "metadata": {
            "tags": []
          },
          "execution_count": 43
        }
      ]
    },
    {
      "cell_type": "code",
      "metadata": {
        "id": "3CSqw05wQWMV"
      },
      "source": [
        "X = df_cleaned[featureNames].values\n"
      ],
      "execution_count": 42,
      "outputs": []
    },
    {
      "cell_type": "code",
      "metadata": {
        "colab": {
          "base_uri": "https://localhost:8080/"
        },
        "id": "DAPNwdu-Qn5R",
        "outputId": "290e95e6-ddb0-4f64-a299-43ccba855a97"
      },
      "source": [
        "X"
      ],
      "execution_count": 44,
      "outputs": [
        {
          "output_type": "execute_result",
          "data": {
            "text/plain": [
              "array([[52, 16,  0, ...,  0,  1,  0],\n",
              "       [46, 22,  8, ...,  0,  1,  0],\n",
              "       [59,  9,  0, ...,  0,  1,  0],\n",
              "       ...,\n",
              "       [50, 32,  0, ...,  0,  0,  1],\n",
              "       [36, 12,  8, ...,  0,  0,  1],\n",
              "       [36,  2,  0, ...,  1,  0,  0]])"
            ]
          },
          "metadata": {
            "tags": []
          },
          "execution_count": 44
        }
      ]
    },
    {
      "cell_type": "code",
      "metadata": {
        "id": "Lxl0pvbgQXfE"
      },
      "source": [
        "y = df_cleaned[targetName].values.ravel()"
      ],
      "execution_count": 45,
      "outputs": []
    },
    {
      "cell_type": "code",
      "metadata": {
        "colab": {
          "base_uri": "https://localhost:8080/"
        },
        "id": "uENAoRtNQtWx",
        "outputId": "5dbcfb4c-9f7c-4ebb-e706-3a761abd9f82"
      },
      "source": [
        "y"
      ],
      "execution_count": 46,
      "outputs": [
        {
          "output_type": "execute_result",
          "data": {
            "text/plain": [
              "array([195.32, 225.09, 201.08, ..., 250.51, 264.92, 208.95])"
            ]
          },
          "metadata": {
            "tags": []
          },
          "execution_count": 46
        }
      ]
    },
    {
      "cell_type": "markdown",
      "metadata": {
        "id": "DH2lKT1y8ecg"
      },
      "source": [
        "# Normalising\n",
        "It's also a good idea to normalise the features: ensuring they are all in the range 0...1. The simplest approach is, for each feature, to subtract the minimum value and divide by the range. This can be done as follows:"
      ]
    },
    {
      "cell_type": "code",
      "metadata": {
        "id": "kIHvWdhO8ech"
      },
      "source": [
        "from sklearn.preprocessing import MinMaxScaler\n",
        "\n",
        "mm_scaler = MinMaxScaler()\n",
        "X = mm_scaler.fit_transform(X)"
      ],
      "execution_count": 47,
      "outputs": []
    },
    {
      "cell_type": "markdown",
      "metadata": {
        "id": "mKlPawVS8ech"
      },
      "source": [
        "Should you later want to apply the same scaling to new data, this can be doner by calling `mm_scaler.transform(X_test)`, where `X_test` is the variable holding the new data set. The same can be done with the encoders. How does our data look now? Rather different to when we started..."
      ]
    },
    {
      "cell_type": "code",
      "metadata": {
        "colab": {
          "base_uri": "https://localhost:8080/"
        },
        "id": "zVQLrQVS8ech",
        "outputId": "de05a0ae-32f2-487c-bcb6-75271d7a6390"
      },
      "source": [
        "X, y"
      ],
      "execution_count": 50,
      "outputs": [
        {
          "output_type": "execute_result",
          "data": {
            "text/plain": [
              "(array([[0.5483871 , 0.24193548, 0.        , ..., 0.        , 1.        ,\n",
              "         0.        ],\n",
              "        [0.4516129 , 0.33870968, 1.        , ..., 0.        , 1.        ,\n",
              "         0.        ],\n",
              "        [0.66129032, 0.12903226, 0.        , ..., 0.        , 1.        ,\n",
              "         0.        ],\n",
              "        ...,\n",
              "        [0.51612903, 0.5       , 0.        , ..., 0.        , 0.        ,\n",
              "         1.        ],\n",
              "        [0.29032258, 0.17741935, 1.        , ..., 0.        , 0.        ,\n",
              "         1.        ],\n",
              "        [0.29032258, 0.01612903, 0.        , ..., 1.        , 0.        ,\n",
              "         0.        ]]),\n",
              " array([195.32, 225.09, 201.08, ..., 250.51, 264.92, 208.95]))"
            ]
          },
          "metadata": {
            "tags": []
          },
          "execution_count": 50
        }
      ]
    },
    {
      "cell_type": "markdown",
      "metadata": {
        "id": "tn0ALrSX8eci"
      },
      "source": [
        "# Unbalanced Data\n",
        "As with our earlier exercise in Orange, we'll now load in an example data set that is unbalanced. For simplicity we'll just load the churn data set we used before. There isn't an easy way to get the example data like we did in Orange, so we've provided it as one of the file downloads for this session. For reference, it comes from here: https://www.kaggle.com/blastchar/telco-customer-churn"
      ]
    },
    {
      "cell_type": "code",
      "metadata": {
        "id": "LiTbgbaH8eci"
      },
      "source": [
        "df=pd.read_csv(\"/content/WA_Fn-UseC_-Telco-Customer-Churn.csv\")"
      ],
      "execution_count": 51,
      "outputs": []
    },
    {
      "cell_type": "markdown",
      "metadata": {
        "id": "zQkO-wsH8eci"
      },
      "source": [
        "First, we'll take a look at the data, and our target variable *Churn*"
      ]
    },
    {
      "cell_type": "code",
      "metadata": {
        "colab": {
          "base_uri": "https://localhost:8080/",
          "height": 592
        },
        "id": "01ls9DUQ8eci",
        "outputId": "05fcfefe-633d-4598-81b2-bf7619d041ad"
      },
      "source": [
        "df"
      ],
      "execution_count": 52,
      "outputs": [
        {
          "output_type": "execute_result",
          "data": {
            "text/html": [
              "<div>\n",
              "<style scoped>\n",
              "    .dataframe tbody tr th:only-of-type {\n",
              "        vertical-align: middle;\n",
              "    }\n",
              "\n",
              "    .dataframe tbody tr th {\n",
              "        vertical-align: top;\n",
              "    }\n",
              "\n",
              "    .dataframe thead th {\n",
              "        text-align: right;\n",
              "    }\n",
              "</style>\n",
              "<table border=\"1\" class=\"dataframe\">\n",
              "  <thead>\n",
              "    <tr style=\"text-align: right;\">\n",
              "      <th></th>\n",
              "      <th>customerID</th>\n",
              "      <th>gender</th>\n",
              "      <th>SeniorCitizen</th>\n",
              "      <th>Partner</th>\n",
              "      <th>Dependents</th>\n",
              "      <th>tenure</th>\n",
              "      <th>PhoneService</th>\n",
              "      <th>MultipleLines</th>\n",
              "      <th>InternetService</th>\n",
              "      <th>OnlineSecurity</th>\n",
              "      <th>OnlineBackup</th>\n",
              "      <th>DeviceProtection</th>\n",
              "      <th>TechSupport</th>\n",
              "      <th>StreamingTV</th>\n",
              "      <th>StreamingMovies</th>\n",
              "      <th>Contract</th>\n",
              "      <th>PaperlessBilling</th>\n",
              "      <th>PaymentMethod</th>\n",
              "      <th>MonthlyCharges</th>\n",
              "      <th>TotalCharges</th>\n",
              "      <th>Churn</th>\n",
              "    </tr>\n",
              "  </thead>\n",
              "  <tbody>\n",
              "    <tr>\n",
              "      <th>0</th>\n",
              "      <td>7590-VHVEG</td>\n",
              "      <td>Female</td>\n",
              "      <td>0</td>\n",
              "      <td>Yes</td>\n",
              "      <td>No</td>\n",
              "      <td>1</td>\n",
              "      <td>No</td>\n",
              "      <td>No phone service</td>\n",
              "      <td>DSL</td>\n",
              "      <td>No</td>\n",
              "      <td>Yes</td>\n",
              "      <td>No</td>\n",
              "      <td>No</td>\n",
              "      <td>No</td>\n",
              "      <td>No</td>\n",
              "      <td>Month-to-month</td>\n",
              "      <td>Yes</td>\n",
              "      <td>Electronic check</td>\n",
              "      <td>29.85</td>\n",
              "      <td>29.85</td>\n",
              "      <td>No</td>\n",
              "    </tr>\n",
              "    <tr>\n",
              "      <th>1</th>\n",
              "      <td>5575-GNVDE</td>\n",
              "      <td>Male</td>\n",
              "      <td>0</td>\n",
              "      <td>No</td>\n",
              "      <td>No</td>\n",
              "      <td>34</td>\n",
              "      <td>Yes</td>\n",
              "      <td>No</td>\n",
              "      <td>DSL</td>\n",
              "      <td>Yes</td>\n",
              "      <td>No</td>\n",
              "      <td>Yes</td>\n",
              "      <td>No</td>\n",
              "      <td>No</td>\n",
              "      <td>No</td>\n",
              "      <td>One year</td>\n",
              "      <td>No</td>\n",
              "      <td>Mailed check</td>\n",
              "      <td>56.95</td>\n",
              "      <td>1889.5</td>\n",
              "      <td>No</td>\n",
              "    </tr>\n",
              "    <tr>\n",
              "      <th>2</th>\n",
              "      <td>3668-QPYBK</td>\n",
              "      <td>Male</td>\n",
              "      <td>0</td>\n",
              "      <td>No</td>\n",
              "      <td>No</td>\n",
              "      <td>2</td>\n",
              "      <td>Yes</td>\n",
              "      <td>No</td>\n",
              "      <td>DSL</td>\n",
              "      <td>Yes</td>\n",
              "      <td>Yes</td>\n",
              "      <td>No</td>\n",
              "      <td>No</td>\n",
              "      <td>No</td>\n",
              "      <td>No</td>\n",
              "      <td>Month-to-month</td>\n",
              "      <td>Yes</td>\n",
              "      <td>Mailed check</td>\n",
              "      <td>53.85</td>\n",
              "      <td>108.15</td>\n",
              "      <td>Yes</td>\n",
              "    </tr>\n",
              "    <tr>\n",
              "      <th>3</th>\n",
              "      <td>7795-CFOCW</td>\n",
              "      <td>Male</td>\n",
              "      <td>0</td>\n",
              "      <td>No</td>\n",
              "      <td>No</td>\n",
              "      <td>45</td>\n",
              "      <td>No</td>\n",
              "      <td>No phone service</td>\n",
              "      <td>DSL</td>\n",
              "      <td>Yes</td>\n",
              "      <td>No</td>\n",
              "      <td>Yes</td>\n",
              "      <td>Yes</td>\n",
              "      <td>No</td>\n",
              "      <td>No</td>\n",
              "      <td>One year</td>\n",
              "      <td>No</td>\n",
              "      <td>Bank transfer (automatic)</td>\n",
              "      <td>42.30</td>\n",
              "      <td>1840.75</td>\n",
              "      <td>No</td>\n",
              "    </tr>\n",
              "    <tr>\n",
              "      <th>4</th>\n",
              "      <td>9237-HQITU</td>\n",
              "      <td>Female</td>\n",
              "      <td>0</td>\n",
              "      <td>No</td>\n",
              "      <td>No</td>\n",
              "      <td>2</td>\n",
              "      <td>Yes</td>\n",
              "      <td>No</td>\n",
              "      <td>Fiber optic</td>\n",
              "      <td>No</td>\n",
              "      <td>No</td>\n",
              "      <td>No</td>\n",
              "      <td>No</td>\n",
              "      <td>No</td>\n",
              "      <td>No</td>\n",
              "      <td>Month-to-month</td>\n",
              "      <td>Yes</td>\n",
              "      <td>Electronic check</td>\n",
              "      <td>70.70</td>\n",
              "      <td>151.65</td>\n",
              "      <td>Yes</td>\n",
              "    </tr>\n",
              "    <tr>\n",
              "      <th>...</th>\n",
              "      <td>...</td>\n",
              "      <td>...</td>\n",
              "      <td>...</td>\n",
              "      <td>...</td>\n",
              "      <td>...</td>\n",
              "      <td>...</td>\n",
              "      <td>...</td>\n",
              "      <td>...</td>\n",
              "      <td>...</td>\n",
              "      <td>...</td>\n",
              "      <td>...</td>\n",
              "      <td>...</td>\n",
              "      <td>...</td>\n",
              "      <td>...</td>\n",
              "      <td>...</td>\n",
              "      <td>...</td>\n",
              "      <td>...</td>\n",
              "      <td>...</td>\n",
              "      <td>...</td>\n",
              "      <td>...</td>\n",
              "      <td>...</td>\n",
              "    </tr>\n",
              "    <tr>\n",
              "      <th>7038</th>\n",
              "      <td>6840-RESVB</td>\n",
              "      <td>Male</td>\n",
              "      <td>0</td>\n",
              "      <td>Yes</td>\n",
              "      <td>Yes</td>\n",
              "      <td>24</td>\n",
              "      <td>Yes</td>\n",
              "      <td>Yes</td>\n",
              "      <td>DSL</td>\n",
              "      <td>Yes</td>\n",
              "      <td>No</td>\n",
              "      <td>Yes</td>\n",
              "      <td>Yes</td>\n",
              "      <td>Yes</td>\n",
              "      <td>Yes</td>\n",
              "      <td>One year</td>\n",
              "      <td>Yes</td>\n",
              "      <td>Mailed check</td>\n",
              "      <td>84.80</td>\n",
              "      <td>1990.5</td>\n",
              "      <td>No</td>\n",
              "    </tr>\n",
              "    <tr>\n",
              "      <th>7039</th>\n",
              "      <td>2234-XADUH</td>\n",
              "      <td>Female</td>\n",
              "      <td>0</td>\n",
              "      <td>Yes</td>\n",
              "      <td>Yes</td>\n",
              "      <td>72</td>\n",
              "      <td>Yes</td>\n",
              "      <td>Yes</td>\n",
              "      <td>Fiber optic</td>\n",
              "      <td>No</td>\n",
              "      <td>Yes</td>\n",
              "      <td>Yes</td>\n",
              "      <td>No</td>\n",
              "      <td>Yes</td>\n",
              "      <td>Yes</td>\n",
              "      <td>One year</td>\n",
              "      <td>Yes</td>\n",
              "      <td>Credit card (automatic)</td>\n",
              "      <td>103.20</td>\n",
              "      <td>7362.9</td>\n",
              "      <td>No</td>\n",
              "    </tr>\n",
              "    <tr>\n",
              "      <th>7040</th>\n",
              "      <td>4801-JZAZL</td>\n",
              "      <td>Female</td>\n",
              "      <td>0</td>\n",
              "      <td>Yes</td>\n",
              "      <td>Yes</td>\n",
              "      <td>11</td>\n",
              "      <td>No</td>\n",
              "      <td>No phone service</td>\n",
              "      <td>DSL</td>\n",
              "      <td>Yes</td>\n",
              "      <td>No</td>\n",
              "      <td>No</td>\n",
              "      <td>No</td>\n",
              "      <td>No</td>\n",
              "      <td>No</td>\n",
              "      <td>Month-to-month</td>\n",
              "      <td>Yes</td>\n",
              "      <td>Electronic check</td>\n",
              "      <td>29.60</td>\n",
              "      <td>346.45</td>\n",
              "      <td>No</td>\n",
              "    </tr>\n",
              "    <tr>\n",
              "      <th>7041</th>\n",
              "      <td>8361-LTMKD</td>\n",
              "      <td>Male</td>\n",
              "      <td>1</td>\n",
              "      <td>Yes</td>\n",
              "      <td>No</td>\n",
              "      <td>4</td>\n",
              "      <td>Yes</td>\n",
              "      <td>Yes</td>\n",
              "      <td>Fiber optic</td>\n",
              "      <td>No</td>\n",
              "      <td>No</td>\n",
              "      <td>No</td>\n",
              "      <td>No</td>\n",
              "      <td>No</td>\n",
              "      <td>No</td>\n",
              "      <td>Month-to-month</td>\n",
              "      <td>Yes</td>\n",
              "      <td>Mailed check</td>\n",
              "      <td>74.40</td>\n",
              "      <td>306.6</td>\n",
              "      <td>Yes</td>\n",
              "    </tr>\n",
              "    <tr>\n",
              "      <th>7042</th>\n",
              "      <td>3186-AJIEK</td>\n",
              "      <td>Male</td>\n",
              "      <td>0</td>\n",
              "      <td>No</td>\n",
              "      <td>No</td>\n",
              "      <td>66</td>\n",
              "      <td>Yes</td>\n",
              "      <td>No</td>\n",
              "      <td>Fiber optic</td>\n",
              "      <td>Yes</td>\n",
              "      <td>No</td>\n",
              "      <td>Yes</td>\n",
              "      <td>Yes</td>\n",
              "      <td>Yes</td>\n",
              "      <td>Yes</td>\n",
              "      <td>Two year</td>\n",
              "      <td>Yes</td>\n",
              "      <td>Bank transfer (automatic)</td>\n",
              "      <td>105.65</td>\n",
              "      <td>6844.5</td>\n",
              "      <td>No</td>\n",
              "    </tr>\n",
              "  </tbody>\n",
              "</table>\n",
              "<p>7043 rows × 21 columns</p>\n",
              "</div>"
            ],
            "text/plain": [
              "      customerID  gender  SeniorCitizen  ... MonthlyCharges TotalCharges  Churn\n",
              "0     7590-VHVEG  Female              0  ...          29.85        29.85     No\n",
              "1     5575-GNVDE    Male              0  ...          56.95       1889.5     No\n",
              "2     3668-QPYBK    Male              0  ...          53.85       108.15    Yes\n",
              "3     7795-CFOCW    Male              0  ...          42.30      1840.75     No\n",
              "4     9237-HQITU  Female              0  ...          70.70       151.65    Yes\n",
              "...          ...     ...            ...  ...            ...          ...    ...\n",
              "7038  6840-RESVB    Male              0  ...          84.80       1990.5     No\n",
              "7039  2234-XADUH  Female              0  ...         103.20       7362.9     No\n",
              "7040  4801-JZAZL  Female              0  ...          29.60       346.45     No\n",
              "7041  8361-LTMKD    Male              1  ...          74.40        306.6    Yes\n",
              "7042  3186-AJIEK    Male              0  ...         105.65       6844.5     No\n",
              "\n",
              "[7043 rows x 21 columns]"
            ]
          },
          "metadata": {
            "tags": []
          },
          "execution_count": 52
        }
      ]
    },
    {
      "cell_type": "code",
      "metadata": {
        "colab": {
          "base_uri": "https://localhost:8080/",
          "height": 288
        },
        "id": "epOuDLui8ecj",
        "outputId": "66702780-0089-43e9-dc4d-064feed92372"
      },
      "source": [
        "df['Churn'].value_counts().plot(kind='bar')"
      ],
      "execution_count": 53,
      "outputs": [
        {
          "output_type": "execute_result",
          "data": {
            "text/plain": [
              "<matplotlib.axes._subplots.AxesSubplot at 0x7f0e6ea4a940>"
            ]
          },
          "metadata": {
            "tags": []
          },
          "execution_count": 53
        },
        {
          "output_type": "display_data",
          "data": {
            "image/png": "[encoded data removed]",
            "text/plain": [
              "<Figure size 432x288 with 1 Axes>"
            ]
          },
          "metadata": {
            "tags": [],
            "needs_background": "light"
          }
        }
      ]
    },
    {
      "cell_type": "markdown",
      "metadata": {
        "id": "_g9Px2zl8ecj"
      },
      "source": [
        "It's only two lines of code to rebalance the data in Python, but it takes some explaining...\n",
        "\n",
        "First we identify the groups in our data that we want to balance, using the `groupby()` function. We tell the function that we want to use the values in *Churn* to make the groups. This function returns a DataFrameGroupBy object, a collection of DataFrames, one for each groups. We store the DataFrameGroupBy object in *g*.\n",
        "\n",
        "Now we'll explain what is happening in the second line:\n",
        "\n",
        "`g.size().min()` finds the size of the smallest group in our data. We determined this by hand in Orange.\n",
        "\n",
        "`x.sample(v)` chooses a random set of `v` rows from the data frame `x`. We used the Data Sampler for this in Orange.\n",
        "\n",
        "`lambda x: x.sample(g.size().min()))` is a [Lambda function](https://www.w3schools.com/python/python_lambda.asp). This basically says \"every time we are given a data frame object called `x` I want you to sample some values from it to make a smaller data frame\"\n",
        "\n",
        "`g.apply(...)` is a function on the DataFrameGroupBy object. What it does is call the lambda function for each of the groups. So it's saying \"run the sampling operation on each group please\".\n",
        "\n",
        "`pd.DataFrame()` joins all the groups back together into one data frame again. This was done by the Concatenate widget in Orange.\n",
        "\n",
        "`.reset_index(drop=True)` is needed to reset the row numbers in the data frame after we're done.\n",
        "\n",
        "You might notice that we're sampling all the groups, and this will include the smallest one, which doesn't actually need sampled. That's okay, because the kind of sampling we're doing will just get everything if the required number of samples is the same as what's already in the data frame."
      ]
    },
    {
      "cell_type": "code",
      "metadata": {
        "id": "rcpuR6rH8eck"
      },
      "source": [
        "g = df.groupby('Churn')\n",
        "\n",
        "df = pd.DataFrame(g.apply(lambda x: x.sample(g.size().min()))).reset_index(drop=True)"
      ],
      "execution_count": 56,
      "outputs": []
    },
    {
      "cell_type": "code",
      "metadata": {
        "colab": {
          "base_uri": "https://localhost:8080/"
        },
        "id": "DMWtH9ibSf8T",
        "outputId": "14b52d53-3896-45f1-e17c-c0b2943acd94"
      },
      "source": [
        "g"
      ],
      "execution_count": 57,
      "outputs": [
        {
          "output_type": "execute_result",
          "data": {
            "text/plain": [
              "<pandas.core.groupby.generic.DataFrameGroupBy object at 0x7f0e6e9c04a8>"
            ]
          },
          "metadata": {
            "tags": []
          },
          "execution_count": 57
        }
      ]
    },
    {
      "cell_type": "markdown",
      "metadata": {
        "id": "uO6v-DKJ8ecl"
      },
      "source": [
        "Let's check the data for balance again..."
      ]
    },
    {
      "cell_type": "code",
      "metadata": {
        "colab": {
          "base_uri": "https://localhost:8080/",
          "height": 288
        },
        "id": "3ovY_2rr8ecl",
        "outputId": "3af3ca7f-8945-4253-cce1-268bedbb6060"
      },
      "source": [
        "df['Churn'].value_counts().plot(kind='bar')"
      ],
      "execution_count": 58,
      "outputs": [
        {
          "output_type": "execute_result",
          "data": {
            "text/plain": [
              "<matplotlib.axes._subplots.AxesSubplot at 0x7f0e6e9c0f98>"
            ]
          },
          "metadata": {
            "tags": []
          },
          "execution_count": 58
        },
        {
          "output_type": "display_data",
          "data": {
            "image/png": "[encoded data removed]",
            "text/plain": [
              "<Figure size 432x288 with 1 Axes>"
            ]
          },
          "metadata": {
            "tags": [],
            "needs_background": "light"
          }
        }
      ]
    },
    {
      "cell_type": "code",
      "metadata": {
        "colab": {
          "base_uri": "https://localhost:8080/",
          "height": 609
        },
        "id": "KYejTpJr8ecl",
        "outputId": "0d41d448-9d04-44ac-a67d-60cd820d99d6"
      },
      "source": [
        "df"
      ],
      "execution_count": 59,
      "outputs": [
        {
          "output_type": "execute_result",
          "data": {
            "text/html": [
              "<div>\n",
              "<style scoped>\n",
              "    .dataframe tbody tr th:only-of-type {\n",
              "        vertical-align: middle;\n",
              "    }\n",
              "\n",
              "    .dataframe tbody tr th {\n",
              "        vertical-align: top;\n",
              "    }\n",
              "\n",
              "    .dataframe thead th {\n",
              "        text-align: right;\n",
              "    }\n",
              "</style>\n",
              "<table border=\"1\" class=\"dataframe\">\n",
              "  <thead>\n",
              "    <tr style=\"text-align: right;\">\n",
              "      <th></th>\n",
              "      <th>customerID</th>\n",
              "      <th>gender</th>\n",
              "      <th>SeniorCitizen</th>\n",
              "      <th>Partner</th>\n",
              "      <th>Dependents</th>\n",
              "      <th>tenure</th>\n",
              "      <th>PhoneService</th>\n",
              "      <th>MultipleLines</th>\n",
              "      <th>InternetService</th>\n",
              "      <th>OnlineSecurity</th>\n",
              "      <th>OnlineBackup</th>\n",
              "      <th>DeviceProtection</th>\n",
              "      <th>TechSupport</th>\n",
              "      <th>StreamingTV</th>\n",
              "      <th>StreamingMovies</th>\n",
              "      <th>Contract</th>\n",
              "      <th>PaperlessBilling</th>\n",
              "      <th>PaymentMethod</th>\n",
              "      <th>MonthlyCharges</th>\n",
              "      <th>TotalCharges</th>\n",
              "      <th>Churn</th>\n",
              "    </tr>\n",
              "  </thead>\n",
              "  <tbody>\n",
              "    <tr>\n",
              "      <th>0</th>\n",
              "      <td>7776-QGYJC</td>\n",
              "      <td>Female</td>\n",
              "      <td>0</td>\n",
              "      <td>Yes</td>\n",
              "      <td>Yes</td>\n",
              "      <td>39</td>\n",
              "      <td>Yes</td>\n",
              "      <td>No</td>\n",
              "      <td>Fiber optic</td>\n",
              "      <td>No</td>\n",
              "      <td>No</td>\n",
              "      <td>Yes</td>\n",
              "      <td>Yes</td>\n",
              "      <td>No</td>\n",
              "      <td>No</td>\n",
              "      <td>Month-to-month</td>\n",
              "      <td>Yes</td>\n",
              "      <td>Bank transfer (automatic)</td>\n",
              "      <td>81.50</td>\n",
              "      <td>3107.3</td>\n",
              "      <td>No</td>\n",
              "    </tr>\n",
              "    <tr>\n",
              "      <th>1</th>\n",
              "      <td>5777-ZPQNC</td>\n",
              "      <td>Female</td>\n",
              "      <td>0</td>\n",
              "      <td>No</td>\n",
              "      <td>No</td>\n",
              "      <td>12</td>\n",
              "      <td>Yes</td>\n",
              "      <td>No</td>\n",
              "      <td>No</td>\n",
              "      <td>No internet service</td>\n",
              "      <td>No internet service</td>\n",
              "      <td>No internet service</td>\n",
              "      <td>No internet service</td>\n",
              "      <td>No internet service</td>\n",
              "      <td>No internet service</td>\n",
              "      <td>One year</td>\n",
              "      <td>No</td>\n",
              "      <td>Electronic check</td>\n",
              "      <td>20.15</td>\n",
              "      <td>260.7</td>\n",
              "      <td>No</td>\n",
              "    </tr>\n",
              "    <tr>\n",
              "      <th>2</th>\n",
              "      <td>3936-QQFLL</td>\n",
              "      <td>Male</td>\n",
              "      <td>0</td>\n",
              "      <td>No</td>\n",
              "      <td>No</td>\n",
              "      <td>2</td>\n",
              "      <td>Yes</td>\n",
              "      <td>No</td>\n",
              "      <td>No</td>\n",
              "      <td>No internet service</td>\n",
              "      <td>No internet service</td>\n",
              "      <td>No internet service</td>\n",
              "      <td>No internet service</td>\n",
              "      <td>No internet service</td>\n",
              "      <td>No internet service</td>\n",
              "      <td>Month-to-month</td>\n",
              "      <td>No</td>\n",
              "      <td>Mailed check</td>\n",
              "      <td>19.75</td>\n",
              "      <td>39.3</td>\n",
              "      <td>No</td>\n",
              "    </tr>\n",
              "    <tr>\n",
              "      <th>3</th>\n",
              "      <td>3062-ICYZQ</td>\n",
              "      <td>Female</td>\n",
              "      <td>0</td>\n",
              "      <td>Yes</td>\n",
              "      <td>Yes</td>\n",
              "      <td>51</td>\n",
              "      <td>Yes</td>\n",
              "      <td>Yes</td>\n",
              "      <td>Fiber optic</td>\n",
              "      <td>Yes</td>\n",
              "      <td>Yes</td>\n",
              "      <td>No</td>\n",
              "      <td>No</td>\n",
              "      <td>No</td>\n",
              "      <td>Yes</td>\n",
              "      <td>Month-to-month</td>\n",
              "      <td>Yes</td>\n",
              "      <td>Electronic check</td>\n",
              "      <td>93.80</td>\n",
              "      <td>4539.35</td>\n",
              "      <td>No</td>\n",
              "    </tr>\n",
              "    <tr>\n",
              "      <th>4</th>\n",
              "      <td>5197-LQXXH</td>\n",
              "      <td>Female</td>\n",
              "      <td>0</td>\n",
              "      <td>Yes</td>\n",
              "      <td>No</td>\n",
              "      <td>71</td>\n",
              "      <td>Yes</td>\n",
              "      <td>Yes</td>\n",
              "      <td>DSL</td>\n",
              "      <td>No</td>\n",
              "      <td>Yes</td>\n",
              "      <td>Yes</td>\n",
              "      <td>Yes</td>\n",
              "      <td>Yes</td>\n",
              "      <td>Yes</td>\n",
              "      <td>Two year</td>\n",
              "      <td>Yes</td>\n",
              "      <td>Credit card (automatic)</td>\n",
              "      <td>83.30</td>\n",
              "      <td>5894.5</td>\n",
              "      <td>No</td>\n",
              "    </tr>\n",
              "    <tr>\n",
              "      <th>...</th>\n",
              "      <td>...</td>\n",
              "      <td>...</td>\n",
              "      <td>...</td>\n",
              "      <td>...</td>\n",
              "      <td>...</td>\n",
              "      <td>...</td>\n",
              "      <td>...</td>\n",
              "      <td>...</td>\n",
              "      <td>...</td>\n",
              "      <td>...</td>\n",
              "      <td>...</td>\n",
              "      <td>...</td>\n",
              "      <td>...</td>\n",
              "      <td>...</td>\n",
              "      <td>...</td>\n",
              "      <td>...</td>\n",
              "      <td>...</td>\n",
              "      <td>...</td>\n",
              "      <td>...</td>\n",
              "      <td>...</td>\n",
              "      <td>...</td>\n",
              "    </tr>\n",
              "    <tr>\n",
              "      <th>3733</th>\n",
              "      <td>9986-BONCE</td>\n",
              "      <td>Female</td>\n",
              "      <td>0</td>\n",
              "      <td>No</td>\n",
              "      <td>No</td>\n",
              "      <td>4</td>\n",
              "      <td>Yes</td>\n",
              "      <td>No</td>\n",
              "      <td>No</td>\n",
              "      <td>No internet service</td>\n",
              "      <td>No internet service</td>\n",
              "      <td>No internet service</td>\n",
              "      <td>No internet service</td>\n",
              "      <td>No internet service</td>\n",
              "      <td>No internet service</td>\n",
              "      <td>Month-to-month</td>\n",
              "      <td>No</td>\n",
              "      <td>Bank transfer (automatic)</td>\n",
              "      <td>20.95</td>\n",
              "      <td>85.5</td>\n",
              "      <td>Yes</td>\n",
              "    </tr>\n",
              "    <tr>\n",
              "      <th>3734</th>\n",
              "      <td>0516-VRYBW</td>\n",
              "      <td>Female</td>\n",
              "      <td>0</td>\n",
              "      <td>No</td>\n",
              "      <td>Yes</td>\n",
              "      <td>18</td>\n",
              "      <td>Yes</td>\n",
              "      <td>No</td>\n",
              "      <td>No</td>\n",
              "      <td>No internet service</td>\n",
              "      <td>No internet service</td>\n",
              "      <td>No internet service</td>\n",
              "      <td>No internet service</td>\n",
              "      <td>No internet service</td>\n",
              "      <td>No internet service</td>\n",
              "      <td>One year</td>\n",
              "      <td>No</td>\n",
              "      <td>Bank transfer (automatic)</td>\n",
              "      <td>20.15</td>\n",
              "      <td>390.85</td>\n",
              "      <td>Yes</td>\n",
              "    </tr>\n",
              "    <tr>\n",
              "      <th>3735</th>\n",
              "      <td>5196-SGOAK</td>\n",
              "      <td>Female</td>\n",
              "      <td>0</td>\n",
              "      <td>No</td>\n",
              "      <td>No</td>\n",
              "      <td>1</td>\n",
              "      <td>Yes</td>\n",
              "      <td>No</td>\n",
              "      <td>Fiber optic</td>\n",
              "      <td>No</td>\n",
              "      <td>Yes</td>\n",
              "      <td>No</td>\n",
              "      <td>No</td>\n",
              "      <td>No</td>\n",
              "      <td>No</td>\n",
              "      <td>Month-to-month</td>\n",
              "      <td>Yes</td>\n",
              "      <td>Electronic check</td>\n",
              "      <td>75.70</td>\n",
              "      <td>75.7</td>\n",
              "      <td>Yes</td>\n",
              "    </tr>\n",
              "    <tr>\n",
              "      <th>3736</th>\n",
              "      <td>3346-BRMIS</td>\n",
              "      <td>Female</td>\n",
              "      <td>1</td>\n",
              "      <td>Yes</td>\n",
              "      <td>No</td>\n",
              "      <td>18</td>\n",
              "      <td>No</td>\n",
              "      <td>No phone service</td>\n",
              "      <td>DSL</td>\n",
              "      <td>No</td>\n",
              "      <td>No</td>\n",
              "      <td>Yes</td>\n",
              "      <td>No</td>\n",
              "      <td>Yes</td>\n",
              "      <td>Yes</td>\n",
              "      <td>Month-to-month</td>\n",
              "      <td>Yes</td>\n",
              "      <td>Electronic check</td>\n",
              "      <td>48.35</td>\n",
              "      <td>810.7</td>\n",
              "      <td>Yes</td>\n",
              "    </tr>\n",
              "    <tr>\n",
              "      <th>3737</th>\n",
              "      <td>7881-EVUAD</td>\n",
              "      <td>Female</td>\n",
              "      <td>0</td>\n",
              "      <td>No</td>\n",
              "      <td>No</td>\n",
              "      <td>2</td>\n",
              "      <td>No</td>\n",
              "      <td>No phone service</td>\n",
              "      <td>DSL</td>\n",
              "      <td>Yes</td>\n",
              "      <td>Yes</td>\n",
              "      <td>No</td>\n",
              "      <td>No</td>\n",
              "      <td>No</td>\n",
              "      <td>Yes</td>\n",
              "      <td>Month-to-month</td>\n",
              "      <td>Yes</td>\n",
              "      <td>Electronic check</td>\n",
              "      <td>42.60</td>\n",
              "      <td>72.4</td>\n",
              "      <td>Yes</td>\n",
              "    </tr>\n",
              "  </tbody>\n",
              "</table>\n",
              "<p>3738 rows × 21 columns</p>\n",
              "</div>"
            ],
            "text/plain": [
              "      customerID  gender  SeniorCitizen  ... MonthlyCharges TotalCharges  Churn\n",
              "0     7776-QGYJC  Female              0  ...          81.50       3107.3     No\n",
              "1     5777-ZPQNC  Female              0  ...          20.15        260.7     No\n",
              "2     3936-QQFLL    Male              0  ...          19.75         39.3     No\n",
              "3     3062-ICYZQ  Female              0  ...          93.80      4539.35     No\n",
              "4     5197-LQXXH  Female              0  ...          83.30       5894.5     No\n",
              "...          ...     ...            ...  ...            ...          ...    ...\n",
              "3733  9986-BONCE  Female              0  ...          20.95         85.5    Yes\n",
              "3734  0516-VRYBW  Female              0  ...          20.15       390.85    Yes\n",
              "3735  5196-SGOAK  Female              0  ...          75.70         75.7    Yes\n",
              "3736  3346-BRMIS  Female              1  ...          48.35        810.7    Yes\n",
              "3737  7881-EVUAD  Female              0  ...          42.60         72.4    Yes\n",
              "\n",
              "[3738 rows x 21 columns]"
            ]
          },
          "metadata": {
            "tags": []
          },
          "execution_count": 59
        }
      ]
    },
    {
      "cell_type": "markdown",
      "metadata": {
        "id": "WjsA5T8W8ecm"
      },
      "source": [
        "Excellent! It's nicely balanced. Well done: that's the end of this exercise."
      ]
    }
  ]
}